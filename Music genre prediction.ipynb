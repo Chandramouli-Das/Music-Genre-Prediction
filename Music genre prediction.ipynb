{
 "cells": [
  {
   "cell_type": "markdown",
   "id": "24962492",
   "metadata": {},
   "source": [
    "# Predict the Music Genre"
   ]
  },
  {
   "cell_type": "markdown",
   "id": "6a7cd000",
   "metadata": {},
   "source": [
    "# Importing Libraries"
   ]
  },
  {
   "cell_type": "code",
   "execution_count": 1,
   "id": "57e2567e",
   "metadata": {},
   "outputs": [],
   "source": [
    "import numpy as np\n",
    "import pandas as pd"
   ]
  },
  {
   "cell_type": "markdown",
   "id": "78e91d18",
   "metadata": {},
   "source": [
    "# Reading Dataset"
   ]
  },
  {
   "cell_type": "code",
   "execution_count": 2,
   "id": "c7d7dba0",
   "metadata": {},
   "outputs": [],
   "source": [
    "df = pd.read_csv(\"train.csv\")"
   ]
  },
  {
   "cell_type": "code",
   "execution_count": 3,
   "id": "6e9ffca2",
   "metadata": {},
   "outputs": [
    {
     "data": {
      "text/html": [
       "<div>\n",
       "<style scoped>\n",
       "    .dataframe tbody tr th:only-of-type {\n",
       "        vertical-align: middle;\n",
       "    }\n",
       "\n",
       "    .dataframe tbody tr th {\n",
       "        vertical-align: top;\n",
       "    }\n",
       "\n",
       "    .dataframe thead th {\n",
       "        text-align: right;\n",
       "    }\n",
       "</style>\n",
       "<table border=\"1\" class=\"dataframe\">\n",
       "  <thead>\n",
       "    <tr style=\"text-align: right;\">\n",
       "      <th></th>\n",
       "      <th>instance_id</th>\n",
       "      <th>track_name</th>\n",
       "      <th>popularity</th>\n",
       "      <th>acousticness</th>\n",
       "      <th>danceability</th>\n",
       "      <th>duration_ms</th>\n",
       "      <th>energy</th>\n",
       "      <th>instrumentalness</th>\n",
       "      <th>key</th>\n",
       "      <th>liveness</th>\n",
       "      <th>loudness</th>\n",
       "      <th>voice_gender</th>\n",
       "      <th>mode</th>\n",
       "      <th>speechiness</th>\n",
       "      <th>tempo</th>\n",
       "      <th>musician_category</th>\n",
       "      <th>valence</th>\n",
       "      <th>music_genre</th>\n",
       "    </tr>\n",
       "  </thead>\n",
       "  <tbody>\n",
       "    <tr>\n",
       "      <th>0</th>\n",
       "      <td>MSC_83537.0</td>\n",
       "      <td>Estrellitas y Duendes</td>\n",
       "      <td>49.178</td>\n",
       "      <td>0.970522</td>\n",
       "      <td>0.580508</td>\n",
       "      <td>214625.776</td>\n",
       "      <td>0.192107</td>\n",
       "      <td>0.000000</td>\n",
       "      <td>Scale E</td>\n",
       "      <td>0.147134</td>\n",
       "      <td>-14.140</td>\n",
       "      <td>NaN</td>\n",
       "      <td>Major</td>\n",
       "      <td>0.046404</td>\n",
       "      <td>143.78799999999998</td>\n",
       "      <td>Band</td>\n",
       "      <td>0.598965</td>\n",
       "      <td>Jazz</td>\n",
       "    </tr>\n",
       "    <tr>\n",
       "      <th>1</th>\n",
       "      <td>MSC_22044.0</td>\n",
       "      <td>Al Norte</td>\n",
       "      <td>59.827</td>\n",
       "      <td>1.009380</td>\n",
       "      <td>0.687542</td>\n",
       "      <td>216232.195</td>\n",
       "      <td>0.265942</td>\n",
       "      <td>0.000031</td>\n",
       "      <td>Scale A</td>\n",
       "      <td>0.174655</td>\n",
       "      <td>-13.716</td>\n",
       "      <td>Male</td>\n",
       "      <td>?</td>\n",
       "      <td>0.039949</td>\n",
       "      <td>?</td>\n",
       "      <td>Band</td>\n",
       "      <td>0.357194</td>\n",
       "      <td>Jazz</td>\n",
       "    </tr>\n",
       "    <tr>\n",
       "      <th>2</th>\n",
       "      <td>MSC_62017.0</td>\n",
       "      <td>Yeah! (feat. Lil Jon &amp; Ludacris)</td>\n",
       "      <td>89.023</td>\n",
       "      <td>0.020041</td>\n",
       "      <td>0.967948</td>\n",
       "      <td>273314.723</td>\n",
       "      <td>0.857411</td>\n",
       "      <td>0.000000</td>\n",
       "      <td>Scale D</td>\n",
       "      <td>0.042030</td>\n",
       "      <td>-4.995</td>\n",
       "      <td>Female</td>\n",
       "      <td>Major</td>\n",
       "      <td>0.119917</td>\n",
       "      <td>105.01799999999999</td>\n",
       "      <td>Band</td>\n",
       "      <td>0.635525</td>\n",
       "      <td>Rap</td>\n",
       "    </tr>\n",
       "    <tr>\n",
       "      <th>3</th>\n",
       "      <td>MSC_76365.0</td>\n",
       "      <td>Can’t You See</td>\n",
       "      <td>55.762</td>\n",
       "      <td>0.010284</td>\n",
       "      <td>0.616287</td>\n",
       "      <td>189189.605</td>\n",
       "      <td>0.970513</td>\n",
       "      <td>0.000220</td>\n",
       "      <td>Scale D</td>\n",
       "      <td>0.124637</td>\n",
       "      <td>-4.262</td>\n",
       "      <td>Both</td>\n",
       "      <td>Major</td>\n",
       "      <td>0.167493</td>\n",
       "      <td>?</td>\n",
       "      <td>Duet</td>\n",
       "      <td>0.983750</td>\n",
       "      <td>Rock</td>\n",
       "    </tr>\n",
       "    <tr>\n",
       "      <th>4</th>\n",
       "      <td>MSC_71493.0</td>\n",
       "      <td>Sonata III (G Moll), BWV 1029: Adagio</td>\n",
       "      <td>45.095</td>\n",
       "      <td>0.858769</td>\n",
       "      <td>0.280645</td>\n",
       "      <td>410136.987</td>\n",
       "      <td>0.114732</td>\n",
       "      <td>0.002753</td>\n",
       "      <td>Scale F Sharp</td>\n",
       "      <td>0.134782</td>\n",
       "      <td>-26.922</td>\n",
       "      <td>Female</td>\n",
       "      <td>Minor</td>\n",
       "      <td>0.039139</td>\n",
       "      <td>112.18299999999999</td>\n",
       "      <td>Band</td>\n",
       "      <td>0.074412</td>\n",
       "      <td>Classical</td>\n",
       "    </tr>\n",
       "  </tbody>\n",
       "</table>\n",
       "</div>"
      ],
      "text/plain": [
       "   instance_id                             track_name  popularity  \\\n",
       "0  MSC_83537.0                  Estrellitas y Duendes      49.178   \n",
       "1  MSC_22044.0                               Al Norte      59.827   \n",
       "2  MSC_62017.0       Yeah! (feat. Lil Jon & Ludacris)      89.023   \n",
       "3  MSC_76365.0                          Can’t You See      55.762   \n",
       "4  MSC_71493.0  Sonata III (G Moll), BWV 1029: Adagio      45.095   \n",
       "\n",
       "   acousticness  danceability  duration_ms    energy  instrumentalness  \\\n",
       "0      0.970522      0.580508   214625.776  0.192107          0.000000   \n",
       "1      1.009380      0.687542   216232.195  0.265942          0.000031   \n",
       "2      0.020041      0.967948   273314.723  0.857411          0.000000   \n",
       "3      0.010284      0.616287   189189.605  0.970513          0.000220   \n",
       "4      0.858769      0.280645   410136.987  0.114732          0.002753   \n",
       "\n",
       "             key  liveness  loudness voice_gender   mode  speechiness  \\\n",
       "0        Scale E  0.147134   -14.140          NaN  Major     0.046404   \n",
       "1        Scale A  0.174655   -13.716         Male      ?     0.039949   \n",
       "2        Scale D  0.042030    -4.995       Female  Major     0.119917   \n",
       "3        Scale D  0.124637    -4.262         Both  Major     0.167493   \n",
       "4  Scale F Sharp  0.134782   -26.922       Female  Minor     0.039139   \n",
       "\n",
       "                tempo musician_category   valence music_genre  \n",
       "0  143.78799999999998              Band  0.598965        Jazz  \n",
       "1                   ?              Band  0.357194        Jazz  \n",
       "2  105.01799999999999              Band  0.635525         Rap  \n",
       "3                   ?              Duet  0.983750        Rock  \n",
       "4  112.18299999999999              Band  0.074412   Classical  "
      ]
     },
     "execution_count": 3,
     "metadata": {},
     "output_type": "execute_result"
    }
   ],
   "source": [
    "df.head()"
   ]
  },
  {
   "cell_type": "code",
   "execution_count": 4,
   "id": "0a925e88",
   "metadata": {},
   "outputs": [
    {
     "data": {
      "text/plain": [
       "(15681, 18)"
      ]
     },
     "execution_count": 4,
     "metadata": {},
     "output_type": "execute_result"
    }
   ],
   "source": [
    "df.shape"
   ]
  },
  {
   "cell_type": "code",
   "execution_count": 5,
   "id": "9682db98",
   "metadata": {},
   "outputs": [
    {
     "name": "stdout",
     "output_type": "stream",
     "text": [
      "<class 'pandas.core.frame.DataFrame'>\n",
      "RangeIndex: 15681 entries, 0 to 15680\n",
      "Data columns (total 18 columns):\n",
      " #   Column             Non-Null Count  Dtype  \n",
      "---  ------             --------------  -----  \n",
      " 0   instance_id        15681 non-null  object \n",
      " 1   track_name         15681 non-null  object \n",
      " 2   popularity         15039 non-null  float64\n",
      " 3   acousticness       15681 non-null  float64\n",
      " 4   danceability       15125 non-null  float64\n",
      " 5   duration_ms        15587 non-null  float64\n",
      " 6   energy             15587 non-null  float64\n",
      " 7   instrumentalness   15586 non-null  float64\n",
      " 8   key                15681 non-null  object \n",
      " 9   liveness           15681 non-null  float64\n",
      " 10  loudness           15645 non-null  float64\n",
      " 11  voice_gender       14916 non-null  object \n",
      " 12  mode               15646 non-null  object \n",
      " 13  speechiness        15655 non-null  float64\n",
      " 14  tempo              15681 non-null  object \n",
      " 15  musician_category  14321 non-null  object \n",
      " 16  valence            15004 non-null  float64\n",
      " 17  music_genre        15681 non-null  object \n",
      "dtypes: float64(10), object(8)\n",
      "memory usage: 2.2+ MB\n"
     ]
    }
   ],
   "source": [
    "df.info()"
   ]
  },
  {
   "cell_type": "code",
   "execution_count": 6,
   "id": "e9693edb",
   "metadata": {},
   "outputs": [
    {
     "data": {
      "text/html": [
       "<div>\n",
       "<style scoped>\n",
       "    .dataframe tbody tr th:only-of-type {\n",
       "        vertical-align: middle;\n",
       "    }\n",
       "\n",
       "    .dataframe tbody tr th {\n",
       "        vertical-align: top;\n",
       "    }\n",
       "\n",
       "    .dataframe thead th {\n",
       "        text-align: right;\n",
       "    }\n",
       "</style>\n",
       "<table border=\"1\" class=\"dataframe\">\n",
       "  <thead>\n",
       "    <tr style=\"text-align: right;\">\n",
       "      <th></th>\n",
       "      <th>popularity</th>\n",
       "      <th>acousticness</th>\n",
       "      <th>danceability</th>\n",
       "      <th>duration_ms</th>\n",
       "      <th>energy</th>\n",
       "      <th>instrumentalness</th>\n",
       "      <th>liveness</th>\n",
       "      <th>loudness</th>\n",
       "      <th>speechiness</th>\n",
       "      <th>valence</th>\n",
       "    </tr>\n",
       "  </thead>\n",
       "  <tbody>\n",
       "    <tr>\n",
       "      <th>count</th>\n",
       "      <td>15039.000000</td>\n",
       "      <td>15681.000000</td>\n",
       "      <td>15125.000000</td>\n",
       "      <td>1.558700e+04</td>\n",
       "      <td>15587.000000</td>\n",
       "      <td>15586.000000</td>\n",
       "      <td>15681.000000</td>\n",
       "      <td>15645.000000</td>\n",
       "      <td>15655.000000</td>\n",
       "      <td>15004.000000</td>\n",
       "    </tr>\n",
       "    <tr>\n",
       "      <th>mean</th>\n",
       "      <td>50.822720</td>\n",
       "      <td>0.446922</td>\n",
       "      <td>0.570106</td>\n",
       "      <td>2.480008e+05</td>\n",
       "      <td>0.426977</td>\n",
       "      <td>0.264290</td>\n",
       "      <td>0.194089</td>\n",
       "      <td>-11.621471</td>\n",
       "      <td>0.096411</td>\n",
       "      <td>0.451400</td>\n",
       "    </tr>\n",
       "    <tr>\n",
       "      <th>std</th>\n",
       "      <td>17.679789</td>\n",
       "      <td>0.416981</td>\n",
       "      <td>0.215045</td>\n",
       "      <td>1.568312e+05</td>\n",
       "      <td>0.514145</td>\n",
       "      <td>0.395788</td>\n",
       "      <td>0.160291</td>\n",
       "      <td>8.663364</td>\n",
       "      <td>0.105647</td>\n",
       "      <td>0.277220</td>\n",
       "    </tr>\n",
       "    <tr>\n",
       "      <th>min</th>\n",
       "      <td>0.000000</td>\n",
       "      <td>0.000002</td>\n",
       "      <td>0.063962</td>\n",
       "      <td>-1.000000e+00</td>\n",
       "      <td>-1.000000</td>\n",
       "      <td>0.000000</td>\n",
       "      <td>0.016652</td>\n",
       "      <td>-50.054000</td>\n",
       "      <td>0.023858</td>\n",
       "      <td>0.000000</td>\n",
       "    </tr>\n",
       "    <tr>\n",
       "      <th>25%</th>\n",
       "      <td>39.017000</td>\n",
       "      <td>0.044521</td>\n",
       "      <td>0.418635</td>\n",
       "      <td>1.860163e+05</td>\n",
       "      <td>0.158277</td>\n",
       "      <td>0.000000</td>\n",
       "      <td>0.101674</td>\n",
       "      <td>-15.504000</td>\n",
       "      <td>0.039549</td>\n",
       "      <td>0.212242</td>\n",
       "    </tr>\n",
       "    <tr>\n",
       "      <th>50%</th>\n",
       "      <td>54.109000</td>\n",
       "      <td>0.295272</td>\n",
       "      <td>0.586114</td>\n",
       "      <td>2.362127e+05</td>\n",
       "      <td>0.560389</td>\n",
       "      <td>0.000719</td>\n",
       "      <td>0.128784</td>\n",
       "      <td>-8.611000</td>\n",
       "      <td>0.050425</td>\n",
       "      <td>0.432478</td>\n",
       "    </tr>\n",
       "    <tr>\n",
       "      <th>75%</th>\n",
       "      <td>63.449000</td>\n",
       "      <td>0.929001</td>\n",
       "      <td>0.733073</td>\n",
       "      <td>2.975593e+05</td>\n",
       "      <td>0.791881</td>\n",
       "      <td>0.638930</td>\n",
       "      <td>0.228973</td>\n",
       "      <td>-5.715000</td>\n",
       "      <td>0.094230</td>\n",
       "      <td>0.665369</td>\n",
       "    </tr>\n",
       "    <tr>\n",
       "      <th>max</th>\n",
       "      <td>108.512000</td>\n",
       "      <td>1.094410</td>\n",
       "      <td>1.072089</td>\n",
       "      <td>3.410383e+06</td>\n",
       "      <td>1.094853</td>\n",
       "      <td>1.078601</td>\n",
       "      <td>1.080959</td>\n",
       "      <td>1.389000</td>\n",
       "      <td>1.000445</td>\n",
       "      <td>1.076971</td>\n",
       "    </tr>\n",
       "  </tbody>\n",
       "</table>\n",
       "</div>"
      ],
      "text/plain": [
       "         popularity  acousticness  danceability   duration_ms        energy  \\\n",
       "count  15039.000000  15681.000000  15125.000000  1.558700e+04  15587.000000   \n",
       "mean      50.822720      0.446922      0.570106  2.480008e+05      0.426977   \n",
       "std       17.679789      0.416981      0.215045  1.568312e+05      0.514145   \n",
       "min        0.000000      0.000002      0.063962 -1.000000e+00     -1.000000   \n",
       "25%       39.017000      0.044521      0.418635  1.860163e+05      0.158277   \n",
       "50%       54.109000      0.295272      0.586114  2.362127e+05      0.560389   \n",
       "75%       63.449000      0.929001      0.733073  2.975593e+05      0.791881   \n",
       "max      108.512000      1.094410      1.072089  3.410383e+06      1.094853   \n",
       "\n",
       "       instrumentalness      liveness      loudness   speechiness  \\\n",
       "count      15586.000000  15681.000000  15645.000000  15655.000000   \n",
       "mean           0.264290      0.194089    -11.621471      0.096411   \n",
       "std            0.395788      0.160291      8.663364      0.105647   \n",
       "min            0.000000      0.016652    -50.054000      0.023858   \n",
       "25%            0.000000      0.101674    -15.504000      0.039549   \n",
       "50%            0.000719      0.128784     -8.611000      0.050425   \n",
       "75%            0.638930      0.228973     -5.715000      0.094230   \n",
       "max            1.078601      1.080959      1.389000      1.000445   \n",
       "\n",
       "            valence  \n",
       "count  15004.000000  \n",
       "mean       0.451400  \n",
       "std        0.277220  \n",
       "min        0.000000  \n",
       "25%        0.212242  \n",
       "50%        0.432478  \n",
       "75%        0.665369  \n",
       "max        1.076971  "
      ]
     },
     "execution_count": 6,
     "metadata": {},
     "output_type": "execute_result"
    }
   ],
   "source": [
    "df.describe()"
   ]
  },
  {
   "cell_type": "markdown",
   "id": "9cfd0586",
   "metadata": {},
   "source": [
    "# Looking for Null Values"
   ]
  },
  {
   "cell_type": "code",
   "execution_count": 7,
   "id": "5809a60e",
   "metadata": {},
   "outputs": [
    {
     "data": {
      "text/plain": [
       "<AxesSubplot:>"
      ]
     },
     "execution_count": 7,
     "metadata": {},
     "output_type": "execute_result"
    },
    {
     "data": {
      "image/png": "[encoded data removed]",
      "text/plain": [
       "<Figure size 1800x720 with 2 Axes>"
      ]
     },
     "metadata": {
      "needs_background": "light"
     },
     "output_type": "display_data"
    }
   ],
   "source": [
    "import missingno as m\n",
    "m.matrix(df)"
   ]
  },
  {
   "cell_type": "markdown",
   "id": "04ee139f",
   "metadata": {},
   "source": [
    "# Missing values in percentages(%)"
   ]
  },
  {
   "cell_type": "code",
   "execution_count": 8,
   "id": "e7d23071",
   "metadata": {},
   "outputs": [
    {
     "data": {
      "text/plain": [
       "instance_id          0.000000\n",
       "track_name           0.000000\n",
       "popularity           4.094127\n",
       "acousticness         0.000000\n",
       "danceability         3.545692\n",
       "duration_ms          0.599452\n",
       "energy               0.599452\n",
       "instrumentalness     0.605829\n",
       "key                  0.000000\n",
       "liveness             0.000000\n",
       "loudness             0.229577\n",
       "voice_gender         4.878515\n",
       "mode                 0.223200\n",
       "speechiness          0.165806\n",
       "tempo                0.000000\n",
       "musician_category    8.672916\n",
       "valence              4.317327\n",
       "music_genre          0.000000\n",
       "dtype: float64"
      ]
     },
     "execution_count": 8,
     "metadata": {},
     "output_type": "execute_result"
    }
   ],
   "source": [
    "df.isnull().mean()*100"
   ]
  },
  {
   "cell_type": "markdown",
   "id": "e1a62463",
   "metadata": {},
   "source": [
    "#### musician_category, valence, voice_gender,danceability ,popularity  has most number of missing values"
   ]
  },
  {
   "cell_type": "markdown",
   "id": "d0d47380",
   "metadata": {},
   "source": [
    "### Lets deal with the null values "
   ]
  },
  {
   "cell_type": "code",
   "execution_count": 9,
   "id": "28427853",
   "metadata": {},
   "outputs": [
    {
     "data": {
      "text/html": [
       "<div>\n",
       "<style scoped>\n",
       "    .dataframe tbody tr th:only-of-type {\n",
       "        vertical-align: middle;\n",
       "    }\n",
       "\n",
       "    .dataframe tbody tr th {\n",
       "        vertical-align: top;\n",
       "    }\n",
       "\n",
       "    .dataframe thead th {\n",
       "        text-align: right;\n",
       "    }\n",
       "</style>\n",
       "<table border=\"1\" class=\"dataframe\">\n",
       "  <thead>\n",
       "    <tr style=\"text-align: right;\">\n",
       "      <th></th>\n",
       "      <th>popularity</th>\n",
       "      <th>danceability</th>\n",
       "      <th>voice_gender</th>\n",
       "      <th>musician_category</th>\n",
       "      <th>valence</th>\n",
       "    </tr>\n",
       "  </thead>\n",
       "  <tbody>\n",
       "    <tr>\n",
       "      <th>0</th>\n",
       "      <td>49.178</td>\n",
       "      <td>0.580508</td>\n",
       "      <td>NaN</td>\n",
       "      <td>Band</td>\n",
       "      <td>0.598965</td>\n",
       "    </tr>\n",
       "    <tr>\n",
       "      <th>1</th>\n",
       "      <td>59.827</td>\n",
       "      <td>0.687542</td>\n",
       "      <td>Male</td>\n",
       "      <td>Band</td>\n",
       "      <td>0.357194</td>\n",
       "    </tr>\n",
       "    <tr>\n",
       "      <th>2</th>\n",
       "      <td>89.023</td>\n",
       "      <td>0.967948</td>\n",
       "      <td>Female</td>\n",
       "      <td>Band</td>\n",
       "      <td>0.635525</td>\n",
       "    </tr>\n",
       "    <tr>\n",
       "      <th>3</th>\n",
       "      <td>55.762</td>\n",
       "      <td>0.616287</td>\n",
       "      <td>Both</td>\n",
       "      <td>Duet</td>\n",
       "      <td>0.983750</td>\n",
       "    </tr>\n",
       "    <tr>\n",
       "      <th>4</th>\n",
       "      <td>45.095</td>\n",
       "      <td>0.280645</td>\n",
       "      <td>Female</td>\n",
       "      <td>Band</td>\n",
       "      <td>0.074412</td>\n",
       "    </tr>\n",
       "    <tr>\n",
       "      <th>...</th>\n",
       "      <td>...</td>\n",
       "      <td>...</td>\n",
       "      <td>...</td>\n",
       "      <td>...</td>\n",
       "      <td>...</td>\n",
       "    </tr>\n",
       "    <tr>\n",
       "      <th>15676</th>\n",
       "      <td>0.000</td>\n",
       "      <td>0.387476</td>\n",
       "      <td>Female</td>\n",
       "      <td>Band</td>\n",
       "      <td>0.624518</td>\n",
       "    </tr>\n",
       "    <tr>\n",
       "      <th>15677</th>\n",
       "      <td>40.514</td>\n",
       "      <td>0.459917</td>\n",
       "      <td>Both</td>\n",
       "      <td>Duet</td>\n",
       "      <td>0.609022</td>\n",
       "    </tr>\n",
       "    <tr>\n",
       "      <th>15678</th>\n",
       "      <td>35.082</td>\n",
       "      <td>0.566619</td>\n",
       "      <td>Female</td>\n",
       "      <td>NaN</td>\n",
       "      <td>0.869294</td>\n",
       "    </tr>\n",
       "    <tr>\n",
       "      <th>15679</th>\n",
       "      <td>59.693</td>\n",
       "      <td>0.644554</td>\n",
       "      <td>Both</td>\n",
       "      <td>Duet</td>\n",
       "      <td>0.402700</td>\n",
       "    </tr>\n",
       "    <tr>\n",
       "      <th>15680</th>\n",
       "      <td>56.518</td>\n",
       "      <td>0.502160</td>\n",
       "      <td>Female</td>\n",
       "      <td>Solo</td>\n",
       "      <td>0.358777</td>\n",
       "    </tr>\n",
       "  </tbody>\n",
       "</table>\n",
       "<p>15681 rows × 5 columns</p>\n",
       "</div>"
      ],
      "text/plain": [
       "       popularity  danceability voice_gender musician_category   valence\n",
       "0          49.178      0.580508          NaN              Band  0.598965\n",
       "1          59.827      0.687542         Male              Band  0.357194\n",
       "2          89.023      0.967948       Female              Band  0.635525\n",
       "3          55.762      0.616287         Both              Duet  0.983750\n",
       "4          45.095      0.280645       Female              Band  0.074412\n",
       "...           ...           ...          ...               ...       ...\n",
       "15676       0.000      0.387476       Female              Band  0.624518\n",
       "15677      40.514      0.459917         Both              Duet  0.609022\n",
       "15678      35.082      0.566619       Female               NaN  0.869294\n",
       "15679      59.693      0.644554         Both              Duet  0.402700\n",
       "15680      56.518      0.502160       Female              Solo  0.358777\n",
       "\n",
       "[15681 rows x 5 columns]"
      ]
     },
     "execution_count": 9,
     "metadata": {},
     "output_type": "execute_result"
    }
   ],
   "source": [
    "df[['popularity','danceability','voice_gender','musician_category','valence']]"
   ]
  },
  {
   "cell_type": "markdown",
   "id": "50db117b",
   "metadata": {},
   "source": [
    "## for Popularity"
   ]
  },
  {
   "cell_type": "code",
   "execution_count": 10,
   "id": "f8875297",
   "metadata": {},
   "outputs": [
    {
     "data": {
      "text/plain": [
       "108.512"
      ]
     },
     "execution_count": 10,
     "metadata": {},
     "output_type": "execute_result"
    }
   ],
   "source": [
    "df.popularity.max()"
   ]
  },
  {
   "cell_type": "code",
   "execution_count": 11,
   "id": "65540e5a",
   "metadata": {},
   "outputs": [
    {
     "data": {
      "text/plain": [
       "0.0"
      ]
     },
     "execution_count": 11,
     "metadata": {},
     "output_type": "execute_result"
    }
   ],
   "source": [
    "df.popularity.min()"
   ]
  },
  {
   "cell_type": "code",
   "execution_count": 12,
   "id": "daee1eb9",
   "metadata": {},
   "outputs": [
    {
     "data": {
      "text/plain": [
       "50.822720327149405"
      ]
     },
     "execution_count": 12,
     "metadata": {},
     "output_type": "execute_result"
    }
   ],
   "source": [
    "df.popularity.mean()"
   ]
  },
  {
   "cell_type": "markdown",
   "id": "bcab8a32",
   "metadata": {},
   "source": [
    "## Basic Plots"
   ]
  },
  {
   "cell_type": "code",
   "execution_count": 13,
   "id": "0f865886",
   "metadata": {},
   "outputs": [
    {
     "name": "stderr",
     "output_type": "stream",
     "text": [
      "C:\\Users\\KIIT\\Anaconda3\\envs\\python 36 with tensorflow\\lib\\site-packages\\seaborn\\distributions.py:2551: FutureWarning: `distplot` is a deprecated function and will be removed in a future version. Please adapt your code to use either `displot` (a figure-level function with similar flexibility) or `histplot` (an axes-level function for histograms).\n",
      "  warnings.warn(msg, FutureWarning)\n"
     ]
    },
    {
     "data": {
      "text/plain": [
       "<AxesSubplot:xlabel='popularity'>"
      ]
     },
     "execution_count": 13,
     "metadata": {},
     "output_type": "execute_result"
    },
    {
     "data": {
      "image/png": "[encoded data removed]",
      "text/plain": [
       "<Figure size 1152x576 with 3 Axes>"
      ]
     },
     "metadata": {},
     "output_type": "display_data"
    }
   ],
   "source": [
    "import seaborn as sns\n",
    "from matplotlib import pyplot as plt\n",
    "sns.set_theme(style=\"darkgrid\")\n",
    "fig, axes = plt.subplots(1, 3, sharex=True, figsize=(16,8))\n",
    "sns.distplot(ax=axes[0],x=df.popularity)\n",
    "sns.histplot(ax=axes[1],x=df.popularity)\n",
    "sns.boxplot(ax=axes[2],x=df.popularity)"
   ]
  },
  {
   "cell_type": "markdown",
   "id": "2844ef12",
   "metadata": {},
   "source": [
    "#### As we can see from th diagram, we can easily take the mean value for filling the null values as it dosent have outliars "
   ]
  },
  {
   "cell_type": "markdown",
   "id": "74fd912c",
   "metadata": {},
   "source": [
    "### Replacing the Null with mean value"
   ]
  },
  {
   "cell_type": "code",
   "execution_count": 14,
   "id": "71bf1852",
   "metadata": {},
   "outputs": [],
   "source": [
    "df.popularity.fillna(value=df.popularity.mean(), inplace = True)"
   ]
  },
  {
   "cell_type": "markdown",
   "id": "4a6c7793",
   "metadata": {},
   "source": [
    "# danceability"
   ]
  },
  {
   "cell_type": "code",
   "execution_count": 15,
   "id": "c2c0cc83",
   "metadata": {},
   "outputs": [
    {
     "data": {
      "text/plain": [
       "0.06396191584982698"
      ]
     },
     "execution_count": 15,
     "metadata": {},
     "output_type": "execute_result"
    }
   ],
   "source": [
    "df.danceability.min()"
   ]
  },
  {
   "cell_type": "code",
   "execution_count": 16,
   "id": "978fb850",
   "metadata": {},
   "outputs": [
    {
     "data": {
      "text/plain": [
       "1.0720891360319904"
      ]
     },
     "execution_count": 16,
     "metadata": {},
     "output_type": "execute_result"
    }
   ],
   "source": [
    "df.danceability.max()"
   ]
  },
  {
   "cell_type": "code",
   "execution_count": 17,
   "id": "d73f591a",
   "metadata": {},
   "outputs": [
    {
     "data": {
      "text/plain": [
       "0.5701058631606808"
      ]
     },
     "execution_count": 17,
     "metadata": {},
     "output_type": "execute_result"
    }
   ],
   "source": [
    "df.danceability.mean()"
   ]
  },
  {
   "cell_type": "code",
   "execution_count": 18,
   "id": "f2c6b41b",
   "metadata": {},
   "outputs": [
    {
     "name": "stderr",
     "output_type": "stream",
     "text": [
      "C:\\Users\\KIIT\\Anaconda3\\envs\\python 36 with tensorflow\\lib\\site-packages\\seaborn\\distributions.py:2551: FutureWarning: `distplot` is a deprecated function and will be removed in a future version. Please adapt your code to use either `displot` (a figure-level function with similar flexibility) or `histplot` (an axes-level function for histograms).\n",
      "  warnings.warn(msg, FutureWarning)\n"
     ]
    },
    {
     "data": {
      "text/plain": [
       "<AxesSubplot:xlabel='danceability'>"
      ]
     },
     "execution_count": 18,
     "metadata": {},
     "output_type": "execute_result"
    },
    {
     "data": {
      "image/png": "[encoded data removed]",
      "text/plain": [
       "<Figure size 1152x576 with 3 Axes>"
      ]
     },
     "metadata": {},
     "output_type": "display_data"
    }
   ],
   "source": [
    "fig, axes = plt.subplots(1, 3, sharex=True, figsize=(16,8))\n",
    "sns.distplot(ax=axes[0],x=df.danceability)\n",
    "sns.histplot(ax=axes[1],x=df.danceability)\n",
    "sns.boxplot(ax=axes[2],x=df.danceability)"
   ]
  },
  {
   "cell_type": "markdown",
   "id": "b8661469",
   "metadata": {},
   "source": [
    "#### As we can see from th diagram, we can easily take the mean value for filling the null values as it dosent have outliars"
   ]
  },
  {
   "cell_type": "code",
   "execution_count": 19,
   "id": "6502b003",
   "metadata": {},
   "outputs": [],
   "source": [
    "df.danceability.fillna(value=df.danceability.mean(), inplace = True)"
   ]
  },
  {
   "cell_type": "markdown",
   "id": "705926af",
   "metadata": {},
   "source": [
    "# valence"
   ]
  },
  {
   "cell_type": "code",
   "execution_count": 20,
   "id": "70f172d3",
   "metadata": {},
   "outputs": [
    {
     "data": {
      "text/plain": [
       "0.0"
      ]
     },
     "execution_count": 20,
     "metadata": {},
     "output_type": "execute_result"
    }
   ],
   "source": [
    "df.valence.min()"
   ]
  },
  {
   "cell_type": "code",
   "execution_count": 21,
   "id": "ddc98f1d",
   "metadata": {},
   "outputs": [
    {
     "data": {
      "text/plain": [
       "1.0769710183120615"
      ]
     },
     "execution_count": 21,
     "metadata": {},
     "output_type": "execute_result"
    }
   ],
   "source": [
    "df.valence.max()"
   ]
  },
  {
   "cell_type": "code",
   "execution_count": 22,
   "id": "4e68732a",
   "metadata": {},
   "outputs": [
    {
     "data": {
      "text/plain": [
       "0.4514004383771466"
      ]
     },
     "execution_count": 22,
     "metadata": {},
     "output_type": "execute_result"
    }
   ],
   "source": [
    "df.valence.mean()"
   ]
  },
  {
   "cell_type": "code",
   "execution_count": 23,
   "id": "977101e2",
   "metadata": {},
   "outputs": [
    {
     "data": {
      "text/plain": [
       "0.43247797200121607"
      ]
     },
     "execution_count": 23,
     "metadata": {},
     "output_type": "execute_result"
    }
   ],
   "source": [
    "df.valence.median()"
   ]
  },
  {
   "cell_type": "code",
   "execution_count": 24,
   "id": "df8e0adf",
   "metadata": {},
   "outputs": [
    {
     "name": "stderr",
     "output_type": "stream",
     "text": [
      "C:\\Users\\KIIT\\Anaconda3\\envs\\python 36 with tensorflow\\lib\\site-packages\\seaborn\\distributions.py:2551: FutureWarning: `distplot` is a deprecated function and will be removed in a future version. Please adapt your code to use either `displot` (a figure-level function with similar flexibility) or `histplot` (an axes-level function for histograms).\n",
      "  warnings.warn(msg, FutureWarning)\n"
     ]
    },
    {
     "data": {
      "text/plain": [
       "<AxesSubplot:xlabel='valence'>"
      ]
     },
     "execution_count": 24,
     "metadata": {},
     "output_type": "execute_result"
    },
    {
     "data": {
      "image/png": "[encoded data removed]",
      "text/plain": [
       "<Figure size 1152x576 with 3 Axes>"
      ]
     },
     "metadata": {},
     "output_type": "display_data"
    }
   ],
   "source": [
    "fig, axes = plt.subplots(1, 3, sharex=True, figsize=(16,8))\n",
    "sns.distplot(ax=axes[0],x=df.valence)\n",
    "sns.histplot(ax=axes[1],x=df.valence)\n",
    "sns.boxplot(ax=axes[2],x=df.valence)"
   ]
  },
  {
   "cell_type": "markdown",
   "id": "90d43773",
   "metadata": {},
   "source": [
    "#### As we can see from th diagram, we can easily take the median value for filling the null values as it dosent have outliars"
   ]
  },
  {
   "cell_type": "code",
   "execution_count": 25,
   "id": "bc538118",
   "metadata": {},
   "outputs": [],
   "source": [
    "df.valence.fillna(value=df.valence.median(), inplace = True)"
   ]
  },
  {
   "cell_type": "markdown",
   "id": "9b383dbc",
   "metadata": {},
   "source": [
    "### Tempo column is a float, but the date type is string, and it has \"?\" many time, so I have replaced \"?\" with 0, convert it into float and checked the mean and median "
   ]
  },
  {
   "cell_type": "code",
   "execution_count": 26,
   "id": "9993af4d",
   "metadata": {},
   "outputs": [],
   "source": [
    "df.tempo=df.tempo.replace(\"?\",0)"
   ]
  },
  {
   "cell_type": "code",
   "execution_count": 27,
   "id": "b3e7d63a",
   "metadata": {},
   "outputs": [],
   "source": [
    "df['tempo'] = pd.to_numeric(df['tempo'])"
   ]
  },
  {
   "cell_type": "code",
   "execution_count": 28,
   "id": "1f1790ff",
   "metadata": {},
   "outputs": [
    {
     "data": {
      "text/plain": [
       "104.58094094764364"
      ]
     },
     "execution_count": 28,
     "metadata": {},
     "output_type": "execute_result"
    }
   ],
   "source": [
    "df.tempo.mean()"
   ]
  },
  {
   "cell_type": "code",
   "execution_count": 29,
   "id": "3beb159f",
   "metadata": {},
   "outputs": [
    {
     "data": {
      "text/plain": [
       "107.469"
      ]
     },
     "execution_count": 29,
     "metadata": {},
     "output_type": "execute_result"
    }
   ],
   "source": [
    "df.tempo.median()"
   ]
  },
  {
   "cell_type": "markdown",
   "id": "c8473074",
   "metadata": {},
   "source": [
    "### As mean and median is almost same so we can keep it"
   ]
  },
  {
   "cell_type": "markdown",
   "id": "9a45f537",
   "metadata": {},
   "source": [
    "# Now Lets deal with the Categorical Null Variable "
   ]
  },
  {
   "cell_type": "code",
   "execution_count": 30,
   "id": "787a50d0",
   "metadata": {},
   "outputs": [
    {
     "data": {
      "text/html": [
       "<div>\n",
       "<style scoped>\n",
       "    .dataframe tbody tr th:only-of-type {\n",
       "        vertical-align: middle;\n",
       "    }\n",
       "\n",
       "    .dataframe tbody tr th {\n",
       "        vertical-align: top;\n",
       "    }\n",
       "\n",
       "    .dataframe thead th {\n",
       "        text-align: right;\n",
       "    }\n",
       "</style>\n",
       "<table border=\"1\" class=\"dataframe\">\n",
       "  <thead>\n",
       "    <tr style=\"text-align: right;\">\n",
       "      <th></th>\n",
       "      <th>voice_gender</th>\n",
       "      <th>musician_category</th>\n",
       "    </tr>\n",
       "  </thead>\n",
       "  <tbody>\n",
       "    <tr>\n",
       "      <th>0</th>\n",
       "      <td>NaN</td>\n",
       "      <td>Band</td>\n",
       "    </tr>\n",
       "    <tr>\n",
       "      <th>1</th>\n",
       "      <td>Male</td>\n",
       "      <td>Band</td>\n",
       "    </tr>\n",
       "    <tr>\n",
       "      <th>2</th>\n",
       "      <td>Female</td>\n",
       "      <td>Band</td>\n",
       "    </tr>\n",
       "    <tr>\n",
       "      <th>3</th>\n",
       "      <td>Both</td>\n",
       "      <td>Duet</td>\n",
       "    </tr>\n",
       "    <tr>\n",
       "      <th>4</th>\n",
       "      <td>Female</td>\n",
       "      <td>Band</td>\n",
       "    </tr>\n",
       "    <tr>\n",
       "      <th>...</th>\n",
       "      <td>...</td>\n",
       "      <td>...</td>\n",
       "    </tr>\n",
       "    <tr>\n",
       "      <th>15676</th>\n",
       "      <td>Female</td>\n",
       "      <td>Band</td>\n",
       "    </tr>\n",
       "    <tr>\n",
       "      <th>15677</th>\n",
       "      <td>Both</td>\n",
       "      <td>Duet</td>\n",
       "    </tr>\n",
       "    <tr>\n",
       "      <th>15678</th>\n",
       "      <td>Female</td>\n",
       "      <td>NaN</td>\n",
       "    </tr>\n",
       "    <tr>\n",
       "      <th>15679</th>\n",
       "      <td>Both</td>\n",
       "      <td>Duet</td>\n",
       "    </tr>\n",
       "    <tr>\n",
       "      <th>15680</th>\n",
       "      <td>Female</td>\n",
       "      <td>Solo</td>\n",
       "    </tr>\n",
       "  </tbody>\n",
       "</table>\n",
       "<p>15681 rows × 2 columns</p>\n",
       "</div>"
      ],
      "text/plain": [
       "      voice_gender musician_category\n",
       "0              NaN              Band\n",
       "1             Male              Band\n",
       "2           Female              Band\n",
       "3             Both              Duet\n",
       "4           Female              Band\n",
       "...            ...               ...\n",
       "15676       Female              Band\n",
       "15677         Both              Duet\n",
       "15678       Female               NaN\n",
       "15679         Both              Duet\n",
       "15680       Female              Solo\n",
       "\n",
       "[15681 rows x 2 columns]"
      ]
     },
     "execution_count": 30,
     "metadata": {},
     "output_type": "execute_result"
    }
   ],
   "source": [
    "df[['voice_gender','musician_category']]"
   ]
  },
  {
   "cell_type": "code",
   "execution_count": 31,
   "id": "ff56684a",
   "metadata": {},
   "outputs": [
    {
     "data": {
      "text/plain": [
       "array([nan, 'Male', 'Female', 'Both'], dtype=object)"
      ]
     },
     "execution_count": 31,
     "metadata": {},
     "output_type": "execute_result"
    }
   ],
   "source": [
    "df.voice_gender.unique()"
   ]
  },
  {
   "cell_type": "code",
   "execution_count": 32,
   "id": "1b498e8b",
   "metadata": {},
   "outputs": [
    {
     "data": {
      "text/plain": [
       "Female    5050\n",
       "Male      4953\n",
       "Both      4913\n",
       "Name: voice_gender, dtype: int64"
      ]
     },
     "execution_count": 32,
     "metadata": {},
     "output_type": "execute_result"
    }
   ],
   "source": [
    "df.voice_gender.value_counts()"
   ]
  },
  {
   "cell_type": "code",
   "execution_count": 33,
   "id": "bb2c6f60",
   "metadata": {},
   "outputs": [
    {
     "data": {
      "text/plain": [
       "array(['Band', 'Duet', 'Solo', nan], dtype=object)"
      ]
     },
     "execution_count": 33,
     "metadata": {},
     "output_type": "execute_result"
    }
   ],
   "source": [
    "df.musician_category.unique()"
   ]
  },
  {
   "cell_type": "code",
   "execution_count": 34,
   "id": "78b56ea2",
   "metadata": {},
   "outputs": [
    {
     "data": {
      "text/plain": [
       "Band    4843\n",
       "Solo    4784\n",
       "Duet    4694\n",
       "Name: musician_category, dtype: int64"
      ]
     },
     "execution_count": 34,
     "metadata": {},
     "output_type": "execute_result"
    }
   ],
   "source": [
    "df.musician_category.value_counts()"
   ]
  },
  {
   "cell_type": "markdown",
   "id": "e6643ad7",
   "metadata": {},
   "source": [
    "### Lets address the Null or NAN values with \"Others\" Categoty"
   ]
  },
  {
   "cell_type": "code",
   "execution_count": 35,
   "id": "0e1e85f8",
   "metadata": {},
   "outputs": [],
   "source": [
    "df.voice_gender.fillna(\"Others\",inplace =True)"
   ]
  },
  {
   "cell_type": "code",
   "execution_count": 36,
   "id": "a094b500",
   "metadata": {},
   "outputs": [],
   "source": [
    "df.musician_category.fillna(\"Others\",inplace =True)"
   ]
  },
  {
   "cell_type": "code",
   "execution_count": 37,
   "id": "ec46c0b4",
   "metadata": {},
   "outputs": [
    {
     "data": {
      "text/plain": [
       "<AxesSubplot:xlabel='musician_category', ylabel='count'>"
      ]
     },
     "execution_count": 37,
     "metadata": {},
     "output_type": "execute_result"
    },
    {
     "data": {
      "image/png": "[encoded data removed]",
      "text/plain": [
       "<Figure size 1152x576 with 2 Axes>"
      ]
     },
     "metadata": {},
     "output_type": "display_data"
    }
   ],
   "source": [
    "fig, axes = plt.subplots(1, 2, sharex=True, figsize=(16,8))\n",
    "sns.countplot(ax=axes[0],x=df.voice_gender)\n",
    "sns.countplot(ax=axes[1],x=df.musician_category)\n"
   ]
  },
  {
   "cell_type": "code",
   "execution_count": 38,
   "id": "654768d4",
   "metadata": {},
   "outputs": [
    {
     "data": {
      "text/plain": [
       "instance_id           0\n",
       "track_name            0\n",
       "popularity            0\n",
       "acousticness          0\n",
       "danceability          0\n",
       "duration_ms          94\n",
       "energy               94\n",
       "instrumentalness     95\n",
       "key                   0\n",
       "liveness              0\n",
       "loudness             36\n",
       "voice_gender          0\n",
       "mode                 35\n",
       "speechiness          26\n",
       "tempo                 0\n",
       "musician_category     0\n",
       "valence               0\n",
       "music_genre           0\n",
       "dtype: int64"
      ]
     },
     "execution_count": 38,
     "metadata": {},
     "output_type": "execute_result"
    }
   ],
   "source": [
    "df.isnull().sum()"
   ]
  },
  {
   "cell_type": "markdown",
   "id": "3e7a4709",
   "metadata": {},
   "source": [
    "# Dropping all the other null values "
   ]
  },
  {
   "cell_type": "code",
   "execution_count": 39,
   "id": "1a4574fa",
   "metadata": {},
   "outputs": [],
   "source": [
    "df.dropna(inplace=True)"
   ]
  },
  {
   "cell_type": "code",
   "execution_count": 40,
   "id": "a73f9fa8",
   "metadata": {},
   "outputs": [
    {
     "data": {
      "text/plain": [
       "<AxesSubplot:>"
      ]
     },
     "execution_count": 40,
     "metadata": {},
     "output_type": "execute_result"
    },
    {
     "data": {
      "image/png": "[encoded data removed]",
      "text/plain": [
       "<Figure size 1800x720 with 2 Axes>"
      ]
     },
     "metadata": {},
     "output_type": "display_data"
    }
   ],
   "source": [
    "m.matrix(df)"
   ]
  },
  {
   "cell_type": "markdown",
   "id": "cd766c8d",
   "metadata": {},
   "source": [
    "# Repleating the same data preprocessing streps for the test set"
   ]
  },
  {
   "cell_type": "code",
   "execution_count": 41,
   "id": "3c0a29ac",
   "metadata": {
    "scrolled": false
   },
   "outputs": [
    {
     "name": "stdout",
     "output_type": "stream",
     "text": [
      "AxesSubplot(0.125,0.125;0.698618x0.755)\n",
      "instance_id          0.000000\n",
      "track_name           0.000000\n",
      "popularity           4.233614\n",
      "acousticness         0.000000\n",
      "danceability         3.545014\n",
      "duration_ms          0.535578\n",
      "energy               0.841622\n",
      "instrumentalness     0.586585\n",
      "key                  0.000000\n",
      "liveness             0.000000\n",
      "loudness             0.076511\n",
      "voice_gender         4.743688\n",
      "mode                 0.357052\n",
      "speechiness          0.178526\n",
      "tempo                0.000000\n",
      "musician_category    7.957154\n",
      "valence              4.871206\n",
      "dtype: float64\n",
      "   popularity  danceability voice_gender musician_category   valence\n",
      "0      26.101      0.115490         Both              Duet  0.041238\n",
      "1      66.325      0.592838         Male              Band  0.456309\n",
      "2      71.871      0.510340       Female              Solo  0.193332\n",
      "3      56.151      0.338336       Female              Solo  0.214906\n",
      "4      43.687      0.773904         Both              Duet  0.757347\n",
      "5      56.297      0.856119       Female               NaN  0.326165\n",
      "6      35.834      0.663303         Both              Duet  0.038221\n",
      "7      58.691      0.690376         Both              Duet  0.840153\n",
      "8      59.059           NaN       Female              Band  0.741940\n",
      "9      60.884      0.588345         Male              Solo  0.886581\n"
     ]
    },
    {
     "name": "stderr",
     "output_type": "stream",
     "text": [
      "C:\\Users\\KIIT\\Anaconda3\\envs\\python 36 with tensorflow\\lib\\site-packages\\seaborn\\distributions.py:2551: FutureWarning: `distplot` is a deprecated function and will be removed in a future version. Please adapt your code to use either `displot` (a figure-level function with similar flexibility) or `histplot` (an axes-level function for histograms).\n",
      "  warnings.warn(msg, FutureWarning)\n",
      "C:\\Users\\KIIT\\Anaconda3\\envs\\python 36 with tensorflow\\lib\\site-packages\\seaborn\\distributions.py:2551: FutureWarning: `distplot` is a deprecated function and will be removed in a future version. Please adapt your code to use either `displot` (a figure-level function with similar flexibility) or `histplot` (an axes-level function for histograms).\n",
      "  warnings.warn(msg, FutureWarning)\n",
      "C:\\Users\\KIIT\\Anaconda3\\envs\\python 36 with tensorflow\\lib\\site-packages\\seaborn\\distributions.py:2551: FutureWarning: `distplot` is a deprecated function and will be removed in a future version. Please adapt your code to use either `displot` (a figure-level function with similar flexibility) or `histplot` (an axes-level function for histograms).\n",
      "  warnings.warn(msg, FutureWarning)\n"
     ]
    },
    {
     "data": {
      "text/plain": [
       "<AxesSubplot:>"
      ]
     },
     "execution_count": 41,
     "metadata": {},
     "output_type": "execute_result"
    },
    {
     "data": {
      "image/png": "[encoded data removed]",
      "text/plain": [
       "<Figure size 1800x720 with 2 Axes>"
      ]
     },
     "metadata": {},
     "output_type": "display_data"
    },
    {
     "data": {
      "image/png": "[encoded data removed]",
      "text/plain": [
       "<Figure size 1152x576 with 3 Axes>"
      ]
     },
     "metadata": {},
     "output_type": "display_data"
    },
    {
     "data": {
      "image/png": "[encoded data removed]",
      "text/plain": [
       "<Figure size 1152x576 with 3 Axes>"
      ]
     },
     "metadata": {},
     "output_type": "display_data"
    },
    {
     "data": {
      "image/png": "[encoded data removed]",
      "text/plain": [
       "<Figure size 1152x576 with 3 Axes>"
      ]
     },
     "metadata": {},
     "output_type": "display_data"
    },
    {
     "data": {
      "image/png": "[encoded data removed]",
      "text/plain": [
       "<Figure size 1152x576 with 2 Axes>"
      ]
     },
     "metadata": {},
     "output_type": "display_data"
    },
    {
     "data": {
      "image/png": "[encoded data removed]",
      "text/plain": [
       "<Figure size 1800x720 with 2 Axes>"
      ]
     },
     "metadata": {},
     "output_type": "display_data"
    }
   ],
   "source": [
    "df_test = pd.read_csv(\"test.csv\")\n",
    "\n",
    "print(m.matrix(df_test))\n",
    "\n",
    "print(df_test.isnull().mean()*100)\n",
    "\n",
    "print(df_test[['popularity','danceability','voice_gender','musician_category','valence']].head(10))\n",
    "\n",
    "fig, axes = plt.subplots(1, 3, sharex=True, figsize=(16,8))\n",
    "sns.distplot(ax=axes[0],x=df_test.popularity)\n",
    "sns.histplot(ax=axes[1],x=df_test.popularity)\n",
    "sns.boxplot(ax=axes[2],x=df_test.popularity)\n",
    "\n",
    "\n",
    "fig, axes = plt.subplots(1, 3, sharex=True, figsize=(16,8))\n",
    "sns.distplot(ax=axes[0],x=df_test.danceability)\n",
    "sns.histplot(ax=axes[1],x=df_test.danceability)\n",
    "sns.boxplot(ax=axes[2],x=df_test.danceability)\n",
    "\n",
    "fig, axes = plt.subplots(1, 3, sharex=True, figsize=(16,8))\n",
    "sns.distplot(ax=axes[0],x=df_test.valence)\n",
    "sns.histplot(ax=axes[1],x=df_test.valence)\n",
    "sns.boxplot(ax=axes[2],x=df_test.valence)\n",
    "\n",
    "\n",
    "df_test.popularity.fillna(value=df_test.popularity.mean(), inplace = True)\n",
    "df_test.danceability.fillna(value=df_test.danceability.mean(), inplace = True)\n",
    "df_test.valence.fillna(value=df_test.valence.mean(), inplace = True)\n",
    "\n",
    "#Categorical Data for Test Dataset\n",
    "\n",
    "df_test[['voice_gender','musician_category']].head()\n",
    "\n",
    "df_test.voice_gender.fillna(\"Others\",inplace =True)\n",
    "df_test.musician_category.fillna(\"Others\",inplace =True)\n",
    "\n",
    "fig, axes = plt.subplots(1, 2, sharex=True, figsize=(16,8))\n",
    "sns.countplot(ax=axes[0],x=df_test.voice_gender)\n",
    "sns.countplot(ax=axes[1],x=df_test.musician_category)\n",
    "\n",
    "\n",
    "df_test.tempo=df_test.tempo.replace(\"?\",0)\n",
    "df_test['tempo'] = pd.to_numeric(df_test['tempo'])\n",
    "\n",
    "df_test.tempo.mean()\n",
    "df_test.tempo.median()\n",
    "\n",
    "#df_test.dropna(inplace=True)\n",
    "m.matrix(df_test)"
   ]
  },
  {
   "cell_type": "code",
   "execution_count": 42,
   "id": "557a2a81",
   "metadata": {},
   "outputs": [
    {
     "data": {
      "text/html": [
       "<div>\n",
       "<style scoped>\n",
       "    .dataframe tbody tr th:only-of-type {\n",
       "        vertical-align: middle;\n",
       "    }\n",
       "\n",
       "    .dataframe tbody tr th {\n",
       "        vertical-align: top;\n",
       "    }\n",
       "\n",
       "    .dataframe thead th {\n",
       "        text-align: right;\n",
       "    }\n",
       "</style>\n",
       "<table border=\"1\" class=\"dataframe\">\n",
       "  <thead>\n",
       "    <tr style=\"text-align: right;\">\n",
       "      <th></th>\n",
       "      <th>instance_id</th>\n",
       "      <th>track_name</th>\n",
       "      <th>popularity</th>\n",
       "      <th>acousticness</th>\n",
       "      <th>danceability</th>\n",
       "      <th>duration_ms</th>\n",
       "      <th>energy</th>\n",
       "      <th>instrumentalness</th>\n",
       "      <th>key</th>\n",
       "      <th>liveness</th>\n",
       "      <th>loudness</th>\n",
       "      <th>voice_gender</th>\n",
       "      <th>mode</th>\n",
       "      <th>speechiness</th>\n",
       "      <th>tempo</th>\n",
       "      <th>musician_category</th>\n",
       "      <th>valence</th>\n",
       "      <th>music_genre</th>\n",
       "    </tr>\n",
       "  </thead>\n",
       "  <tbody>\n",
       "    <tr>\n",
       "      <th>0</th>\n",
       "      <td>MSC_83537.0</td>\n",
       "      <td>Estrellitas y Duendes</td>\n",
       "      <td>49.178</td>\n",
       "      <td>0.970522</td>\n",
       "      <td>0.580508</td>\n",
       "      <td>214625.776</td>\n",
       "      <td>0.192107</td>\n",
       "      <td>0.000000</td>\n",
       "      <td>Scale E</td>\n",
       "      <td>0.147134</td>\n",
       "      <td>-14.140</td>\n",
       "      <td>Others</td>\n",
       "      <td>Major</td>\n",
       "      <td>0.046404</td>\n",
       "      <td>143.788</td>\n",
       "      <td>Band</td>\n",
       "      <td>0.598965</td>\n",
       "      <td>Jazz</td>\n",
       "    </tr>\n",
       "    <tr>\n",
       "      <th>1</th>\n",
       "      <td>MSC_22044.0</td>\n",
       "      <td>Al Norte</td>\n",
       "      <td>59.827</td>\n",
       "      <td>1.009380</td>\n",
       "      <td>0.687542</td>\n",
       "      <td>216232.195</td>\n",
       "      <td>0.265942</td>\n",
       "      <td>0.000031</td>\n",
       "      <td>Scale A</td>\n",
       "      <td>0.174655</td>\n",
       "      <td>-13.716</td>\n",
       "      <td>Male</td>\n",
       "      <td>?</td>\n",
       "      <td>0.039949</td>\n",
       "      <td>0.000</td>\n",
       "      <td>Band</td>\n",
       "      <td>0.357194</td>\n",
       "      <td>Jazz</td>\n",
       "    </tr>\n",
       "    <tr>\n",
       "      <th>2</th>\n",
       "      <td>MSC_62017.0</td>\n",
       "      <td>Yeah! (feat. Lil Jon &amp; Ludacris)</td>\n",
       "      <td>89.023</td>\n",
       "      <td>0.020041</td>\n",
       "      <td>0.967948</td>\n",
       "      <td>273314.723</td>\n",
       "      <td>0.857411</td>\n",
       "      <td>0.000000</td>\n",
       "      <td>Scale D</td>\n",
       "      <td>0.042030</td>\n",
       "      <td>-4.995</td>\n",
       "      <td>Female</td>\n",
       "      <td>Major</td>\n",
       "      <td>0.119917</td>\n",
       "      <td>105.018</td>\n",
       "      <td>Band</td>\n",
       "      <td>0.635525</td>\n",
       "      <td>Rap</td>\n",
       "    </tr>\n",
       "    <tr>\n",
       "      <th>3</th>\n",
       "      <td>MSC_76365.0</td>\n",
       "      <td>Can’t You See</td>\n",
       "      <td>55.762</td>\n",
       "      <td>0.010284</td>\n",
       "      <td>0.616287</td>\n",
       "      <td>189189.605</td>\n",
       "      <td>0.970513</td>\n",
       "      <td>0.000220</td>\n",
       "      <td>Scale D</td>\n",
       "      <td>0.124637</td>\n",
       "      <td>-4.262</td>\n",
       "      <td>Both</td>\n",
       "      <td>Major</td>\n",
       "      <td>0.167493</td>\n",
       "      <td>0.000</td>\n",
       "      <td>Duet</td>\n",
       "      <td>0.983750</td>\n",
       "      <td>Rock</td>\n",
       "    </tr>\n",
       "    <tr>\n",
       "      <th>4</th>\n",
       "      <td>MSC_71493.0</td>\n",
       "      <td>Sonata III (G Moll), BWV 1029: Adagio</td>\n",
       "      <td>45.095</td>\n",
       "      <td>0.858769</td>\n",
       "      <td>0.280645</td>\n",
       "      <td>410136.987</td>\n",
       "      <td>0.114732</td>\n",
       "      <td>0.002753</td>\n",
       "      <td>Scale F Sharp</td>\n",
       "      <td>0.134782</td>\n",
       "      <td>-26.922</td>\n",
       "      <td>Female</td>\n",
       "      <td>Minor</td>\n",
       "      <td>0.039139</td>\n",
       "      <td>112.183</td>\n",
       "      <td>Band</td>\n",
       "      <td>0.074412</td>\n",
       "      <td>Classical</td>\n",
       "    </tr>\n",
       "  </tbody>\n",
       "</table>\n",
       "</div>"
      ],
      "text/plain": [
       "   instance_id                             track_name  popularity  \\\n",
       "0  MSC_83537.0                  Estrellitas y Duendes      49.178   \n",
       "1  MSC_22044.0                               Al Norte      59.827   \n",
       "2  MSC_62017.0       Yeah! (feat. Lil Jon & Ludacris)      89.023   \n",
       "3  MSC_76365.0                          Can’t You See      55.762   \n",
       "4  MSC_71493.0  Sonata III (G Moll), BWV 1029: Adagio      45.095   \n",
       "\n",
       "   acousticness  danceability  duration_ms    energy  instrumentalness  \\\n",
       "0      0.970522      0.580508   214625.776  0.192107          0.000000   \n",
       "1      1.009380      0.687542   216232.195  0.265942          0.000031   \n",
       "2      0.020041      0.967948   273314.723  0.857411          0.000000   \n",
       "3      0.010284      0.616287   189189.605  0.970513          0.000220   \n",
       "4      0.858769      0.280645   410136.987  0.114732          0.002753   \n",
       "\n",
       "             key  liveness  loudness voice_gender   mode  speechiness  \\\n",
       "0        Scale E  0.147134   -14.140       Others  Major     0.046404   \n",
       "1        Scale A  0.174655   -13.716         Male      ?     0.039949   \n",
       "2        Scale D  0.042030    -4.995       Female  Major     0.119917   \n",
       "3        Scale D  0.124637    -4.262         Both  Major     0.167493   \n",
       "4  Scale F Sharp  0.134782   -26.922       Female  Minor     0.039139   \n",
       "\n",
       "     tempo musician_category   valence music_genre  \n",
       "0  143.788              Band  0.598965        Jazz  \n",
       "1    0.000              Band  0.357194        Jazz  \n",
       "2  105.018              Band  0.635525         Rap  \n",
       "3    0.000              Duet  0.983750        Rock  \n",
       "4  112.183              Band  0.074412   Classical  "
      ]
     },
     "execution_count": 42,
     "metadata": {},
     "output_type": "execute_result"
    }
   ],
   "source": [
    "df.head()"
   ]
  },
  {
   "cell_type": "code",
   "execution_count": 43,
   "id": "0b8b3bac",
   "metadata": {},
   "outputs": [
    {
     "data": {
      "text/html": [
       "<div>\n",
       "<style scoped>\n",
       "    .dataframe tbody tr th:only-of-type {\n",
       "        vertical-align: middle;\n",
       "    }\n",
       "\n",
       "    .dataframe tbody tr th {\n",
       "        vertical-align: top;\n",
       "    }\n",
       "\n",
       "    .dataframe thead th {\n",
       "        text-align: right;\n",
       "    }\n",
       "</style>\n",
       "<table border=\"1\" class=\"dataframe\">\n",
       "  <thead>\n",
       "    <tr style=\"text-align: right;\">\n",
       "      <th></th>\n",
       "      <th>instance_id</th>\n",
       "      <th>track_name</th>\n",
       "      <th>popularity</th>\n",
       "      <th>acousticness</th>\n",
       "      <th>danceability</th>\n",
       "      <th>duration_ms</th>\n",
       "      <th>energy</th>\n",
       "      <th>instrumentalness</th>\n",
       "      <th>key</th>\n",
       "      <th>liveness</th>\n",
       "      <th>loudness</th>\n",
       "      <th>voice_gender</th>\n",
       "      <th>mode</th>\n",
       "      <th>speechiness</th>\n",
       "      <th>tempo</th>\n",
       "      <th>musician_category</th>\n",
       "      <th>valence</th>\n",
       "    </tr>\n",
       "  </thead>\n",
       "  <tbody>\n",
       "    <tr>\n",
       "      <th>0</th>\n",
       "      <td>MSC_70753.0</td>\n",
       "      <td>Bard, a Man of Lake-town - Extended Version</td>\n",
       "      <td>26.101</td>\n",
       "      <td>0.823765</td>\n",
       "      <td>0.115490</td>\n",
       "      <td>211462.287</td>\n",
       "      <td>0.125325</td>\n",
       "      <td>0.945272</td>\n",
       "      <td>Scale A Sharp</td>\n",
       "      <td>0.120392</td>\n",
       "      <td>-25.541</td>\n",
       "      <td>Both</td>\n",
       "      <td>Minor</td>\n",
       "      <td>0.038657</td>\n",
       "      <td>80.777</td>\n",
       "      <td>Duet</td>\n",
       "      <td>0.041238</td>\n",
       "    </tr>\n",
       "    <tr>\n",
       "      <th>1</th>\n",
       "      <td>MSC_24064.0</td>\n",
       "      <td>New Kings</td>\n",
       "      <td>66.325</td>\n",
       "      <td>0.015441</td>\n",
       "      <td>0.592838</td>\n",
       "      <td>249151.238</td>\n",
       "      <td>0.870798</td>\n",
       "      <td>0.000108</td>\n",
       "      <td>Scale E</td>\n",
       "      <td>0.406722</td>\n",
       "      <td>-3.905</td>\n",
       "      <td>Male</td>\n",
       "      <td>?</td>\n",
       "      <td>0.051368</td>\n",
       "      <td>76.004</td>\n",
       "      <td>Band</td>\n",
       "      <td>0.456309</td>\n",
       "    </tr>\n",
       "    <tr>\n",
       "      <th>2</th>\n",
       "      <td>MSC_22731.0</td>\n",
       "      <td>Silver Lining</td>\n",
       "      <td>71.871</td>\n",
       "      <td>0.001006</td>\n",
       "      <td>0.510340</td>\n",
       "      <td>215693.240</td>\n",
       "      <td>0.683077</td>\n",
       "      <td>0.000000</td>\n",
       "      <td>Scale C</td>\n",
       "      <td>0.084608</td>\n",
       "      <td>-6.825</td>\n",
       "      <td>Female</td>\n",
       "      <td>Major</td>\n",
       "      <td>0.034303</td>\n",
       "      <td>144.458</td>\n",
       "      <td>Solo</td>\n",
       "      <td>0.193332</td>\n",
       "    </tr>\n",
       "    <tr>\n",
       "      <th>3</th>\n",
       "      <td>MSC_32095.0</td>\n",
       "      <td>A Tale That Wasn't Right</td>\n",
       "      <td>56.151</td>\n",
       "      <td>0.315650</td>\n",
       "      <td>0.338336</td>\n",
       "      <td>307056.179</td>\n",
       "      <td>0.608904</td>\n",
       "      <td>0.000000</td>\n",
       "      <td>Scale A</td>\n",
       "      <td>0.276811</td>\n",
       "      <td>-8.382</td>\n",
       "      <td>Female</td>\n",
       "      <td>Minor</td>\n",
       "      <td>0.036934</td>\n",
       "      <td>118.145</td>\n",
       "      <td>Solo</td>\n",
       "      <td>0.214906</td>\n",
       "    </tr>\n",
       "    <tr>\n",
       "      <th>4</th>\n",
       "      <td>MSC_24198.0</td>\n",
       "      <td>Get Ready</td>\n",
       "      <td>43.687</td>\n",
       "      <td>0.038336</td>\n",
       "      <td>0.773904</td>\n",
       "      <td>352802.872</td>\n",
       "      <td>0.955500</td>\n",
       "      <td>0.000007</td>\n",
       "      <td>Scale D</td>\n",
       "      <td>0.301726</td>\n",
       "      <td>-4.733</td>\n",
       "      <td>Both</td>\n",
       "      <td>Major</td>\n",
       "      <td>0.079688</td>\n",
       "      <td>95.012</td>\n",
       "      <td>Duet</td>\n",
       "      <td>0.757347</td>\n",
       "    </tr>\n",
       "  </tbody>\n",
       "</table>\n",
       "</div>"
      ],
      "text/plain": [
       "   instance_id                                   track_name  popularity  \\\n",
       "0  MSC_70753.0  Bard, a Man of Lake-town - Extended Version      26.101   \n",
       "1  MSC_24064.0                                    New Kings      66.325   \n",
       "2  MSC_22731.0                                Silver Lining      71.871   \n",
       "3  MSC_32095.0                     A Tale That Wasn't Right      56.151   \n",
       "4  MSC_24198.0                                    Get Ready      43.687   \n",
       "\n",
       "   acousticness  danceability  duration_ms    energy  instrumentalness  \\\n",
       "0      0.823765      0.115490   211462.287  0.125325          0.945272   \n",
       "1      0.015441      0.592838   249151.238  0.870798          0.000108   \n",
       "2      0.001006      0.510340   215693.240  0.683077          0.000000   \n",
       "3      0.315650      0.338336   307056.179  0.608904          0.000000   \n",
       "4      0.038336      0.773904   352802.872  0.955500          0.000007   \n",
       "\n",
       "             key  liveness  loudness voice_gender   mode  speechiness  \\\n",
       "0  Scale A Sharp  0.120392   -25.541         Both  Minor     0.038657   \n",
       "1        Scale E  0.406722    -3.905         Male      ?     0.051368   \n",
       "2        Scale C  0.084608    -6.825       Female  Major     0.034303   \n",
       "3        Scale A  0.276811    -8.382       Female  Minor     0.036934   \n",
       "4        Scale D  0.301726    -4.733         Both  Major     0.079688   \n",
       "\n",
       "     tempo musician_category   valence  \n",
       "0   80.777              Duet  0.041238  \n",
       "1   76.004              Band  0.456309  \n",
       "2  144.458              Solo  0.193332  \n",
       "3  118.145              Solo  0.214906  \n",
       "4   95.012              Duet  0.757347  "
      ]
     },
     "execution_count": 43,
     "metadata": {},
     "output_type": "execute_result"
    }
   ],
   "source": [
    "df_test.head()"
   ]
  },
  {
   "cell_type": "markdown",
   "id": "a44f1b65",
   "metadata": {},
   "source": [
    "# Now Our data set is ready for preprocessing "
   ]
  },
  {
   "cell_type": "markdown",
   "id": "4cc8f5a1",
   "metadata": {},
   "source": [
    "### Dealing with all the categorical variable"
   ]
  },
  {
   "cell_type": "code",
   "execution_count": 44,
   "id": "af86aae2",
   "metadata": {},
   "outputs": [
    {
     "data": {
      "text/html": [
       "<div>\n",
       "<style scoped>\n",
       "    .dataframe tbody tr th:only-of-type {\n",
       "        vertical-align: middle;\n",
       "    }\n",
       "\n",
       "    .dataframe tbody tr th {\n",
       "        vertical-align: top;\n",
       "    }\n",
       "\n",
       "    .dataframe thead th {\n",
       "        text-align: right;\n",
       "    }\n",
       "</style>\n",
       "<table border=\"1\" class=\"dataframe\">\n",
       "  <thead>\n",
       "    <tr style=\"text-align: right;\">\n",
       "      <th></th>\n",
       "      <th>key</th>\n",
       "      <th>voice_gender</th>\n",
       "      <th>mode</th>\n",
       "      <th>musician_category</th>\n",
       "    </tr>\n",
       "  </thead>\n",
       "  <tbody>\n",
       "    <tr>\n",
       "      <th>0</th>\n",
       "      <td>Scale E</td>\n",
       "      <td>Others</td>\n",
       "      <td>Major</td>\n",
       "      <td>Band</td>\n",
       "    </tr>\n",
       "    <tr>\n",
       "      <th>1</th>\n",
       "      <td>Scale A</td>\n",
       "      <td>Male</td>\n",
       "      <td>?</td>\n",
       "      <td>Band</td>\n",
       "    </tr>\n",
       "    <tr>\n",
       "      <th>2</th>\n",
       "      <td>Scale D</td>\n",
       "      <td>Female</td>\n",
       "      <td>Major</td>\n",
       "      <td>Band</td>\n",
       "    </tr>\n",
       "    <tr>\n",
       "      <th>3</th>\n",
       "      <td>Scale D</td>\n",
       "      <td>Both</td>\n",
       "      <td>Major</td>\n",
       "      <td>Duet</td>\n",
       "    </tr>\n",
       "    <tr>\n",
       "      <th>4</th>\n",
       "      <td>Scale F Sharp</td>\n",
       "      <td>Female</td>\n",
       "      <td>Minor</td>\n",
       "      <td>Band</td>\n",
       "    </tr>\n",
       "    <tr>\n",
       "      <th>...</th>\n",
       "      <td>...</td>\n",
       "      <td>...</td>\n",
       "      <td>...</td>\n",
       "      <td>...</td>\n",
       "    </tr>\n",
       "    <tr>\n",
       "      <th>15676</th>\n",
       "      <td>Scale B</td>\n",
       "      <td>Female</td>\n",
       "      <td>Major</td>\n",
       "      <td>Band</td>\n",
       "    </tr>\n",
       "    <tr>\n",
       "      <th>15677</th>\n",
       "      <td>Scale F</td>\n",
       "      <td>Both</td>\n",
       "      <td>Major</td>\n",
       "      <td>Duet</td>\n",
       "    </tr>\n",
       "    <tr>\n",
       "      <th>15678</th>\n",
       "      <td>Scale D Sharp</td>\n",
       "      <td>Female</td>\n",
       "      <td>Major</td>\n",
       "      <td>Others</td>\n",
       "    </tr>\n",
       "    <tr>\n",
       "      <th>15679</th>\n",
       "      <td>Scale F</td>\n",
       "      <td>Both</td>\n",
       "      <td>Minor</td>\n",
       "      <td>Duet</td>\n",
       "    </tr>\n",
       "    <tr>\n",
       "      <th>15680</th>\n",
       "      <td>Scale F</td>\n",
       "      <td>Female</td>\n",
       "      <td>Major</td>\n",
       "      <td>Solo</td>\n",
       "    </tr>\n",
       "  </tbody>\n",
       "</table>\n",
       "<p>15307 rows × 4 columns</p>\n",
       "</div>"
      ],
      "text/plain": [
       "                 key voice_gender   mode musician_category\n",
       "0            Scale E       Others  Major              Band\n",
       "1            Scale A         Male      ?              Band\n",
       "2            Scale D       Female  Major              Band\n",
       "3            Scale D         Both  Major              Duet\n",
       "4      Scale F Sharp       Female  Minor              Band\n",
       "...              ...          ...    ...               ...\n",
       "15676        Scale B       Female  Major              Band\n",
       "15677        Scale F         Both  Major              Duet\n",
       "15678  Scale D Sharp       Female  Major            Others\n",
       "15679        Scale F         Both  Minor              Duet\n",
       "15680        Scale F       Female  Major              Solo\n",
       "\n",
       "[15307 rows x 4 columns]"
      ]
     },
     "execution_count": 44,
     "metadata": {},
     "output_type": "execute_result"
    }
   ],
   "source": [
    "df[['key','voice_gender','mode','musician_category']]"
   ]
  },
  {
   "cell_type": "code",
   "execution_count": 45,
   "id": "2b8e1da7",
   "metadata": {},
   "outputs": [
    {
     "data": {
      "text/plain": [
       "<AxesSubplot:xlabel='musician_category', ylabel='count'>"
      ]
     },
     "execution_count": 45,
     "metadata": {},
     "output_type": "execute_result"
    },
    {
     "data": {
      "image/png": "[encoded data removed]",
      "text/plain": [
       "<Figure size 1152x576 with 4 Axes>"
      ]
     },
     "metadata": {},
     "output_type": "display_data"
    }
   ],
   "source": [
    "fig, axes = plt.subplots(2, 2, sharex=True, figsize=(16,8))\n",
    "sns.countplot(ax=axes[0,0],x=df.key)\n",
    "sns.countplot(ax=axes[0,1],x=df.voice_gender)\n",
    "sns.countplot(ax=axes[1,0],x=df['mode'])\n",
    "sns.countplot(ax=axes[1,1],x=df.musician_category)"
   ]
  },
  {
   "cell_type": "markdown",
   "id": "6c40680c",
   "metadata": {},
   "source": [
    "# Using label Encoder"
   ]
  },
  {
   "cell_type": "code",
   "execution_count": 46,
   "id": "2f1c323a",
   "metadata": {},
   "outputs": [],
   "source": [
    "from sklearn.preprocessing import LabelEncoder\n",
    "le = LabelEncoder()\n",
    "df['key'] = le.fit_transform(df['key'])\n",
    "df['voice_gender'] = le.fit_transform(df['voice_gender'])\n",
    "df['mode'] = le.fit_transform(df['mode'])\n",
    "df['musician_category'] = le.fit_transform(df['musician_category'])\n"
   ]
  },
  {
   "cell_type": "code",
   "execution_count": 47,
   "id": "288216f7",
   "metadata": {},
   "outputs": [
    {
     "data": {
      "text/html": [
       "<div>\n",
       "<style scoped>\n",
       "    .dataframe tbody tr th:only-of-type {\n",
       "        vertical-align: middle;\n",
       "    }\n",
       "\n",
       "    .dataframe tbody tr th {\n",
       "        vertical-align: top;\n",
       "    }\n",
       "\n",
       "    .dataframe thead th {\n",
       "        text-align: right;\n",
       "    }\n",
       "</style>\n",
       "<table border=\"1\" class=\"dataframe\">\n",
       "  <thead>\n",
       "    <tr style=\"text-align: right;\">\n",
       "      <th></th>\n",
       "      <th>instance_id</th>\n",
       "      <th>track_name</th>\n",
       "      <th>popularity</th>\n",
       "      <th>acousticness</th>\n",
       "      <th>danceability</th>\n",
       "      <th>duration_ms</th>\n",
       "      <th>energy</th>\n",
       "      <th>instrumentalness</th>\n",
       "      <th>key</th>\n",
       "      <th>liveness</th>\n",
       "      <th>loudness</th>\n",
       "      <th>voice_gender</th>\n",
       "      <th>mode</th>\n",
       "      <th>speechiness</th>\n",
       "      <th>tempo</th>\n",
       "      <th>musician_category</th>\n",
       "      <th>valence</th>\n",
       "      <th>music_genre</th>\n",
       "    </tr>\n",
       "  </thead>\n",
       "  <tbody>\n",
       "    <tr>\n",
       "      <th>0</th>\n",
       "      <td>MSC_83537.0</td>\n",
       "      <td>Estrellitas y Duendes</td>\n",
       "      <td>49.178</td>\n",
       "      <td>0.970522</td>\n",
       "      <td>0.580508</td>\n",
       "      <td>214625.776</td>\n",
       "      <td>0.192107</td>\n",
       "      <td>0.000000</td>\n",
       "      <td>7</td>\n",
       "      <td>0.147134</td>\n",
       "      <td>-14.140</td>\n",
       "      <td>3</td>\n",
       "      <td>1</td>\n",
       "      <td>0.046404</td>\n",
       "      <td>143.788</td>\n",
       "      <td>0</td>\n",
       "      <td>0.598965</td>\n",
       "      <td>Jazz</td>\n",
       "    </tr>\n",
       "    <tr>\n",
       "      <th>1</th>\n",
       "      <td>MSC_22044.0</td>\n",
       "      <td>Al Norte</td>\n",
       "      <td>59.827</td>\n",
       "      <td>1.009380</td>\n",
       "      <td>0.687542</td>\n",
       "      <td>216232.195</td>\n",
       "      <td>0.265942</td>\n",
       "      <td>0.000031</td>\n",
       "      <td>0</td>\n",
       "      <td>0.174655</td>\n",
       "      <td>-13.716</td>\n",
       "      <td>2</td>\n",
       "      <td>0</td>\n",
       "      <td>0.039949</td>\n",
       "      <td>0.000</td>\n",
       "      <td>0</td>\n",
       "      <td>0.357194</td>\n",
       "      <td>Jazz</td>\n",
       "    </tr>\n",
       "    <tr>\n",
       "      <th>2</th>\n",
       "      <td>MSC_62017.0</td>\n",
       "      <td>Yeah! (feat. Lil Jon &amp; Ludacris)</td>\n",
       "      <td>89.023</td>\n",
       "      <td>0.020041</td>\n",
       "      <td>0.967948</td>\n",
       "      <td>273314.723</td>\n",
       "      <td>0.857411</td>\n",
       "      <td>0.000000</td>\n",
       "      <td>5</td>\n",
       "      <td>0.042030</td>\n",
       "      <td>-4.995</td>\n",
       "      <td>1</td>\n",
       "      <td>1</td>\n",
       "      <td>0.119917</td>\n",
       "      <td>105.018</td>\n",
       "      <td>0</td>\n",
       "      <td>0.635525</td>\n",
       "      <td>Rap</td>\n",
       "    </tr>\n",
       "    <tr>\n",
       "      <th>3</th>\n",
       "      <td>MSC_76365.0</td>\n",
       "      <td>Can’t You See</td>\n",
       "      <td>55.762</td>\n",
       "      <td>0.010284</td>\n",
       "      <td>0.616287</td>\n",
       "      <td>189189.605</td>\n",
       "      <td>0.970513</td>\n",
       "      <td>0.000220</td>\n",
       "      <td>5</td>\n",
       "      <td>0.124637</td>\n",
       "      <td>-4.262</td>\n",
       "      <td>0</td>\n",
       "      <td>1</td>\n",
       "      <td>0.167493</td>\n",
       "      <td>0.000</td>\n",
       "      <td>1</td>\n",
       "      <td>0.983750</td>\n",
       "      <td>Rock</td>\n",
       "    </tr>\n",
       "    <tr>\n",
       "      <th>4</th>\n",
       "      <td>MSC_71493.0</td>\n",
       "      <td>Sonata III (G Moll), BWV 1029: Adagio</td>\n",
       "      <td>45.095</td>\n",
       "      <td>0.858769</td>\n",
       "      <td>0.280645</td>\n",
       "      <td>410136.987</td>\n",
       "      <td>0.114732</td>\n",
       "      <td>0.002753</td>\n",
       "      <td>9</td>\n",
       "      <td>0.134782</td>\n",
       "      <td>-26.922</td>\n",
       "      <td>1</td>\n",
       "      <td>2</td>\n",
       "      <td>0.039139</td>\n",
       "      <td>112.183</td>\n",
       "      <td>0</td>\n",
       "      <td>0.074412</td>\n",
       "      <td>Classical</td>\n",
       "    </tr>\n",
       "  </tbody>\n",
       "</table>\n",
       "</div>"
      ],
      "text/plain": [
       "   instance_id                             track_name  popularity  \\\n",
       "0  MSC_83537.0                  Estrellitas y Duendes      49.178   \n",
       "1  MSC_22044.0                               Al Norte      59.827   \n",
       "2  MSC_62017.0       Yeah! (feat. Lil Jon & Ludacris)      89.023   \n",
       "3  MSC_76365.0                          Can’t You See      55.762   \n",
       "4  MSC_71493.0  Sonata III (G Moll), BWV 1029: Adagio      45.095   \n",
       "\n",
       "   acousticness  danceability  duration_ms    energy  instrumentalness  key  \\\n",
       "0      0.970522      0.580508   214625.776  0.192107          0.000000    7   \n",
       "1      1.009380      0.687542   216232.195  0.265942          0.000031    0   \n",
       "2      0.020041      0.967948   273314.723  0.857411          0.000000    5   \n",
       "3      0.010284      0.616287   189189.605  0.970513          0.000220    5   \n",
       "4      0.858769      0.280645   410136.987  0.114732          0.002753    9   \n",
       "\n",
       "   liveness  loudness  voice_gender  mode  speechiness    tempo  \\\n",
       "0  0.147134   -14.140             3     1     0.046404  143.788   \n",
       "1  0.174655   -13.716             2     0     0.039949    0.000   \n",
       "2  0.042030    -4.995             1     1     0.119917  105.018   \n",
       "3  0.124637    -4.262             0     1     0.167493    0.000   \n",
       "4  0.134782   -26.922             1     2     0.039139  112.183   \n",
       "\n",
       "   musician_category   valence music_genre  \n",
       "0                  0  0.598965        Jazz  \n",
       "1                  0  0.357194        Jazz  \n",
       "2                  0  0.635525         Rap  \n",
       "3                  1  0.983750        Rock  \n",
       "4                  0  0.074412   Classical  "
      ]
     },
     "execution_count": 47,
     "metadata": {},
     "output_type": "execute_result"
    }
   ],
   "source": [
    "df.head()"
   ]
  },
  {
   "cell_type": "markdown",
   "id": "dafa8e56",
   "metadata": {},
   "source": [
    "### For test dataset their are some NAN mode values, that are replaced my others"
   ]
  },
  {
   "cell_type": "code",
   "execution_count": 48,
   "id": "b6c43c67",
   "metadata": {},
   "outputs": [],
   "source": [
    "df_test['mode'].fillna(\"others\", inplace=True)"
   ]
  },
  {
   "cell_type": "markdown",
   "id": "76e8687d",
   "metadata": {},
   "source": [
    "# Dropping useless columns from train dataset"
   ]
  },
  {
   "cell_type": "code",
   "execution_count": 49,
   "id": "ccf83307",
   "metadata": {},
   "outputs": [],
   "source": [
    "df.drop(columns=['instance_id','track_name'], inplace=True)"
   ]
  },
  {
   "cell_type": "markdown",
   "id": "4bb32286",
   "metadata": {},
   "source": [
    "# Repeating the same for the Test dataset"
   ]
  },
  {
   "cell_type": "code",
   "execution_count": 50,
   "id": "52dea839",
   "metadata": {},
   "outputs": [
    {
     "data": {
      "image/png": "[encoded data removed]",
      "text/plain": [
       "<Figure size 1152x576 with 4 Axes>"
      ]
     },
     "metadata": {},
     "output_type": "display_data"
    }
   ],
   "source": [
    "df_test[['key','voice_gender','mode','musician_category']]\n",
    "\n",
    "fig, axes = plt.subplots(2, 2, sharex=True, figsize=(16,8))\n",
    "sns.countplot(ax=axes[0,0],x=df_test.key)\n",
    "sns.countplot(ax=axes[0,1],x=df_test.voice_gender)\n",
    "sns.countplot(ax=axes[1,0],x=df_test['mode'])\n",
    "sns.countplot(ax=axes[1,1],x=df_test.musician_category)\n",
    "\n",
    "from sklearn.preprocessing import LabelEncoder\n",
    "le = LabelEncoder()\n",
    "df_test['key'] = le.fit_transform(df_test['key'])\n",
    "df_test['voice_gender'] = le.fit_transform(df_test['voice_gender'])\n",
    "df_test['mode'] = le.fit_transform(df_test['mode'])\n",
    "df_test['musician_category'] = le.fit_transform(df_test['musician_category'])\n",
    "\n",
    "\n"
   ]
  },
  {
   "cell_type": "markdown",
   "id": "4c636c8d",
   "metadata": {},
   "source": [
    "# Final Training and Test Dataset"
   ]
  },
  {
   "cell_type": "code",
   "execution_count": 51,
   "id": "201c087a",
   "metadata": {},
   "outputs": [
    {
     "data": {
      "text/html": [
       "<div>\n",
       "<style scoped>\n",
       "    .dataframe tbody tr th:only-of-type {\n",
       "        vertical-align: middle;\n",
       "    }\n",
       "\n",
       "    .dataframe tbody tr th {\n",
       "        vertical-align: top;\n",
       "    }\n",
       "\n",
       "    .dataframe thead th {\n",
       "        text-align: right;\n",
       "    }\n",
       "</style>\n",
       "<table border=\"1\" class=\"dataframe\">\n",
       "  <thead>\n",
       "    <tr style=\"text-align: right;\">\n",
       "      <th></th>\n",
       "      <th>popularity</th>\n",
       "      <th>acousticness</th>\n",
       "      <th>danceability</th>\n",
       "      <th>duration_ms</th>\n",
       "      <th>energy</th>\n",
       "      <th>instrumentalness</th>\n",
       "      <th>key</th>\n",
       "      <th>liveness</th>\n",
       "      <th>loudness</th>\n",
       "      <th>voice_gender</th>\n",
       "      <th>mode</th>\n",
       "      <th>speechiness</th>\n",
       "      <th>tempo</th>\n",
       "      <th>musician_category</th>\n",
       "      <th>valence</th>\n",
       "      <th>music_genre</th>\n",
       "    </tr>\n",
       "  </thead>\n",
       "  <tbody>\n",
       "    <tr>\n",
       "      <th>0</th>\n",
       "      <td>49.178</td>\n",
       "      <td>0.970522</td>\n",
       "      <td>0.580508</td>\n",
       "      <td>214625.776</td>\n",
       "      <td>0.192107</td>\n",
       "      <td>0.000000</td>\n",
       "      <td>7</td>\n",
       "      <td>0.147134</td>\n",
       "      <td>-14.140</td>\n",
       "      <td>3</td>\n",
       "      <td>1</td>\n",
       "      <td>0.046404</td>\n",
       "      <td>143.788</td>\n",
       "      <td>0</td>\n",
       "      <td>0.598965</td>\n",
       "      <td>Jazz</td>\n",
       "    </tr>\n",
       "    <tr>\n",
       "      <th>1</th>\n",
       "      <td>59.827</td>\n",
       "      <td>1.009380</td>\n",
       "      <td>0.687542</td>\n",
       "      <td>216232.195</td>\n",
       "      <td>0.265942</td>\n",
       "      <td>0.000031</td>\n",
       "      <td>0</td>\n",
       "      <td>0.174655</td>\n",
       "      <td>-13.716</td>\n",
       "      <td>2</td>\n",
       "      <td>0</td>\n",
       "      <td>0.039949</td>\n",
       "      <td>0.000</td>\n",
       "      <td>0</td>\n",
       "      <td>0.357194</td>\n",
       "      <td>Jazz</td>\n",
       "    </tr>\n",
       "    <tr>\n",
       "      <th>2</th>\n",
       "      <td>89.023</td>\n",
       "      <td>0.020041</td>\n",
       "      <td>0.967948</td>\n",
       "      <td>273314.723</td>\n",
       "      <td>0.857411</td>\n",
       "      <td>0.000000</td>\n",
       "      <td>5</td>\n",
       "      <td>0.042030</td>\n",
       "      <td>-4.995</td>\n",
       "      <td>1</td>\n",
       "      <td>1</td>\n",
       "      <td>0.119917</td>\n",
       "      <td>105.018</td>\n",
       "      <td>0</td>\n",
       "      <td>0.635525</td>\n",
       "      <td>Rap</td>\n",
       "    </tr>\n",
       "    <tr>\n",
       "      <th>3</th>\n",
       "      <td>55.762</td>\n",
       "      <td>0.010284</td>\n",
       "      <td>0.616287</td>\n",
       "      <td>189189.605</td>\n",
       "      <td>0.970513</td>\n",
       "      <td>0.000220</td>\n",
       "      <td>5</td>\n",
       "      <td>0.124637</td>\n",
       "      <td>-4.262</td>\n",
       "      <td>0</td>\n",
       "      <td>1</td>\n",
       "      <td>0.167493</td>\n",
       "      <td>0.000</td>\n",
       "      <td>1</td>\n",
       "      <td>0.983750</td>\n",
       "      <td>Rock</td>\n",
       "    </tr>\n",
       "    <tr>\n",
       "      <th>4</th>\n",
       "      <td>45.095</td>\n",
       "      <td>0.858769</td>\n",
       "      <td>0.280645</td>\n",
       "      <td>410136.987</td>\n",
       "      <td>0.114732</td>\n",
       "      <td>0.002753</td>\n",
       "      <td>9</td>\n",
       "      <td>0.134782</td>\n",
       "      <td>-26.922</td>\n",
       "      <td>1</td>\n",
       "      <td>2</td>\n",
       "      <td>0.039139</td>\n",
       "      <td>112.183</td>\n",
       "      <td>0</td>\n",
       "      <td>0.074412</td>\n",
       "      <td>Classical</td>\n",
       "    </tr>\n",
       "  </tbody>\n",
       "</table>\n",
       "</div>"
      ],
      "text/plain": [
       "   popularity  acousticness  danceability  duration_ms    energy  \\\n",
       "0      49.178      0.970522      0.580508   214625.776  0.192107   \n",
       "1      59.827      1.009380      0.687542   216232.195  0.265942   \n",
       "2      89.023      0.020041      0.967948   273314.723  0.857411   \n",
       "3      55.762      0.010284      0.616287   189189.605  0.970513   \n",
       "4      45.095      0.858769      0.280645   410136.987  0.114732   \n",
       "\n",
       "   instrumentalness  key  liveness  loudness  voice_gender  mode  speechiness  \\\n",
       "0          0.000000    7  0.147134   -14.140             3     1     0.046404   \n",
       "1          0.000031    0  0.174655   -13.716             2     0     0.039949   \n",
       "2          0.000000    5  0.042030    -4.995             1     1     0.119917   \n",
       "3          0.000220    5  0.124637    -4.262             0     1     0.167493   \n",
       "4          0.002753    9  0.134782   -26.922             1     2     0.039139   \n",
       "\n",
       "     tempo  musician_category   valence music_genre  \n",
       "0  143.788                  0  0.598965        Jazz  \n",
       "1    0.000                  0  0.357194        Jazz  \n",
       "2  105.018                  0  0.635525         Rap  \n",
       "3    0.000                  1  0.983750        Rock  \n",
       "4  112.183                  0  0.074412   Classical  "
      ]
     },
     "execution_count": 51,
     "metadata": {},
     "output_type": "execute_result"
    }
   ],
   "source": [
    "df.head()"
   ]
  },
  {
   "cell_type": "code",
   "execution_count": 52,
   "id": "c7c283bd",
   "metadata": {},
   "outputs": [
    {
     "data": {
      "text/html": [
       "<div>\n",
       "<style scoped>\n",
       "    .dataframe tbody tr th:only-of-type {\n",
       "        vertical-align: middle;\n",
       "    }\n",
       "\n",
       "    .dataframe tbody tr th {\n",
       "        vertical-align: top;\n",
       "    }\n",
       "\n",
       "    .dataframe thead th {\n",
       "        text-align: right;\n",
       "    }\n",
       "</style>\n",
       "<table border=\"1\" class=\"dataframe\">\n",
       "  <thead>\n",
       "    <tr style=\"text-align: right;\">\n",
       "      <th></th>\n",
       "      <th>instance_id</th>\n",
       "      <th>track_name</th>\n",
       "      <th>popularity</th>\n",
       "      <th>acousticness</th>\n",
       "      <th>danceability</th>\n",
       "      <th>duration_ms</th>\n",
       "      <th>energy</th>\n",
       "      <th>instrumentalness</th>\n",
       "      <th>key</th>\n",
       "      <th>liveness</th>\n",
       "      <th>loudness</th>\n",
       "      <th>voice_gender</th>\n",
       "      <th>mode</th>\n",
       "      <th>speechiness</th>\n",
       "      <th>tempo</th>\n",
       "      <th>musician_category</th>\n",
       "      <th>valence</th>\n",
       "    </tr>\n",
       "  </thead>\n",
       "  <tbody>\n",
       "    <tr>\n",
       "      <th>0</th>\n",
       "      <td>MSC_70753.0</td>\n",
       "      <td>Bard, a Man of Lake-town - Extended Version</td>\n",
       "      <td>26.101</td>\n",
       "      <td>0.823765</td>\n",
       "      <td>0.115490</td>\n",
       "      <td>211462.287</td>\n",
       "      <td>0.125325</td>\n",
       "      <td>0.945272</td>\n",
       "      <td>1</td>\n",
       "      <td>0.120392</td>\n",
       "      <td>-25.541</td>\n",
       "      <td>0</td>\n",
       "      <td>2</td>\n",
       "      <td>0.038657</td>\n",
       "      <td>80.777</td>\n",
       "      <td>1</td>\n",
       "      <td>0.041238</td>\n",
       "    </tr>\n",
       "    <tr>\n",
       "      <th>1</th>\n",
       "      <td>MSC_24064.0</td>\n",
       "      <td>New Kings</td>\n",
       "      <td>66.325</td>\n",
       "      <td>0.015441</td>\n",
       "      <td>0.592838</td>\n",
       "      <td>249151.238</td>\n",
       "      <td>0.870798</td>\n",
       "      <td>0.000108</td>\n",
       "      <td>7</td>\n",
       "      <td>0.406722</td>\n",
       "      <td>-3.905</td>\n",
       "      <td>2</td>\n",
       "      <td>0</td>\n",
       "      <td>0.051368</td>\n",
       "      <td>76.004</td>\n",
       "      <td>0</td>\n",
       "      <td>0.456309</td>\n",
       "    </tr>\n",
       "    <tr>\n",
       "      <th>2</th>\n",
       "      <td>MSC_22731.0</td>\n",
       "      <td>Silver Lining</td>\n",
       "      <td>71.871</td>\n",
       "      <td>0.001006</td>\n",
       "      <td>0.510340</td>\n",
       "      <td>215693.240</td>\n",
       "      <td>0.683077</td>\n",
       "      <td>0.000000</td>\n",
       "      <td>3</td>\n",
       "      <td>0.084608</td>\n",
       "      <td>-6.825</td>\n",
       "      <td>1</td>\n",
       "      <td>1</td>\n",
       "      <td>0.034303</td>\n",
       "      <td>144.458</td>\n",
       "      <td>3</td>\n",
       "      <td>0.193332</td>\n",
       "    </tr>\n",
       "    <tr>\n",
       "      <th>3</th>\n",
       "      <td>MSC_32095.0</td>\n",
       "      <td>A Tale That Wasn't Right</td>\n",
       "      <td>56.151</td>\n",
       "      <td>0.315650</td>\n",
       "      <td>0.338336</td>\n",
       "      <td>307056.179</td>\n",
       "      <td>0.608904</td>\n",
       "      <td>0.000000</td>\n",
       "      <td>0</td>\n",
       "      <td>0.276811</td>\n",
       "      <td>-8.382</td>\n",
       "      <td>1</td>\n",
       "      <td>2</td>\n",
       "      <td>0.036934</td>\n",
       "      <td>118.145</td>\n",
       "      <td>3</td>\n",
       "      <td>0.214906</td>\n",
       "    </tr>\n",
       "    <tr>\n",
       "      <th>4</th>\n",
       "      <td>MSC_24198.0</td>\n",
       "      <td>Get Ready</td>\n",
       "      <td>43.687</td>\n",
       "      <td>0.038336</td>\n",
       "      <td>0.773904</td>\n",
       "      <td>352802.872</td>\n",
       "      <td>0.955500</td>\n",
       "      <td>0.000007</td>\n",
       "      <td>5</td>\n",
       "      <td>0.301726</td>\n",
       "      <td>-4.733</td>\n",
       "      <td>0</td>\n",
       "      <td>1</td>\n",
       "      <td>0.079688</td>\n",
       "      <td>95.012</td>\n",
       "      <td>1</td>\n",
       "      <td>0.757347</td>\n",
       "    </tr>\n",
       "  </tbody>\n",
       "</table>\n",
       "</div>"
      ],
      "text/plain": [
       "   instance_id                                   track_name  popularity  \\\n",
       "0  MSC_70753.0  Bard, a Man of Lake-town - Extended Version      26.101   \n",
       "1  MSC_24064.0                                    New Kings      66.325   \n",
       "2  MSC_22731.0                                Silver Lining      71.871   \n",
       "3  MSC_32095.0                     A Tale That Wasn't Right      56.151   \n",
       "4  MSC_24198.0                                    Get Ready      43.687   \n",
       "\n",
       "   acousticness  danceability  duration_ms    energy  instrumentalness  key  \\\n",
       "0      0.823765      0.115490   211462.287  0.125325          0.945272    1   \n",
       "1      0.015441      0.592838   249151.238  0.870798          0.000108    7   \n",
       "2      0.001006      0.510340   215693.240  0.683077          0.000000    3   \n",
       "3      0.315650      0.338336   307056.179  0.608904          0.000000    0   \n",
       "4      0.038336      0.773904   352802.872  0.955500          0.000007    5   \n",
       "\n",
       "   liveness  loudness  voice_gender  mode  speechiness    tempo  \\\n",
       "0  0.120392   -25.541             0     2     0.038657   80.777   \n",
       "1  0.406722    -3.905             2     0     0.051368   76.004   \n",
       "2  0.084608    -6.825             1     1     0.034303  144.458   \n",
       "3  0.276811    -8.382             1     2     0.036934  118.145   \n",
       "4  0.301726    -4.733             0     1     0.079688   95.012   \n",
       "\n",
       "   musician_category   valence  \n",
       "0                  1  0.041238  \n",
       "1                  0  0.456309  \n",
       "2                  3  0.193332  \n",
       "3                  3  0.214906  \n",
       "4                  1  0.757347  "
      ]
     },
     "execution_count": 52,
     "metadata": {},
     "output_type": "execute_result"
    }
   ],
   "source": [
    "df_test.head()"
   ]
  },
  {
   "cell_type": "markdown",
   "id": "3ab14cb1",
   "metadata": {},
   "source": [
    "# Checking for data imbalance "
   ]
  },
  {
   "cell_type": "code",
   "execution_count": 53,
   "id": "775e4bc8",
   "metadata": {},
   "outputs": [
    {
     "data": {
      "text/plain": [
       "array(['Jazz', 'Rap', 'Rock', 'Classical', 'Electronic', 'Country',\n",
       "       'Hip-Hop'], dtype=object)"
      ]
     },
     "execution_count": 53,
     "metadata": {},
     "output_type": "execute_result"
    }
   ],
   "source": [
    "df.music_genre.unique()"
   ]
  },
  {
   "cell_type": "code",
   "execution_count": 54,
   "id": "8df1217d",
   "metadata": {},
   "outputs": [
    {
     "data": {
      "text/plain": [
       "Classical     3906\n",
       "Rock          3778\n",
       "Rap           3124\n",
       "Jazz          2783\n",
       "Country        667\n",
       "Electronic     599\n",
       "Hip-Hop        450\n",
       "Name: music_genre, dtype: int64"
      ]
     },
     "execution_count": 54,
     "metadata": {},
     "output_type": "execute_result"
    }
   ],
   "source": [
    "df.music_genre.value_counts()"
   ]
  },
  {
   "cell_type": "code",
   "execution_count": 55,
   "id": "2ee6d168",
   "metadata": {},
   "outputs": [
    {
     "name": "stderr",
     "output_type": "stream",
     "text": [
      "C:\\Users\\KIIT\\Anaconda3\\envs\\python 36 with tensorflow\\lib\\site-packages\\seaborn\\_decorators.py:43: FutureWarning: Pass the following variable as a keyword arg: x. From version 0.12, the only valid positional argument will be `data`, and passing other arguments without an explicit keyword will result in an error or misinterpretation.\n",
      "  FutureWarning\n"
     ]
    },
    {
     "data": {
      "text/plain": [
       "<AxesSubplot:xlabel='music_genre', ylabel='count'>"
      ]
     },
     "execution_count": 55,
     "metadata": {},
     "output_type": "execute_result"
    },
    {
     "data": {
      "image/png": "[encoded data removed]",
      "text/plain": [
       "<Figure size 432x288 with 1 Axes>"
      ]
     },
     "metadata": {},
     "output_type": "display_data"
    }
   ],
   "source": [
    "sns.countplot(df.music_genre)"
   ]
  },
  {
   "cell_type": "markdown",
   "id": "e2032e5b",
   "metadata": {},
   "source": [
    "### As we can see the Rock, Rap and Jazz genre is high and others are significantly low, so the data imbalance is clear"
   ]
  },
  {
   "cell_type": "markdown",
   "id": "94764931",
   "metadata": {},
   "source": [
    "# X and Y Split"
   ]
  },
  {
   "cell_type": "code",
   "execution_count": 56,
   "id": "ee3e4865",
   "metadata": {},
   "outputs": [],
   "source": [
    "X=df[['popularity', 'acousticness', 'danceability', 'duration_ms', 'energy',\n",
    "       'instrumentalness', 'key', 'liveness', 'loudness', 'voice_gender',\n",
    "       'mode', 'speechiness', 'tempo', 'musician_category', 'valence']]\n",
    "y=df.music_genre"
   ]
  },
  {
   "cell_type": "code",
   "execution_count": 57,
   "id": "48b28582",
   "metadata": {},
   "outputs": [
    {
     "data": {
      "text/html": [
       "<div>\n",
       "<style scoped>\n",
       "    .dataframe tbody tr th:only-of-type {\n",
       "        vertical-align: middle;\n",
       "    }\n",
       "\n",
       "    .dataframe tbody tr th {\n",
       "        vertical-align: top;\n",
       "    }\n",
       "\n",
       "    .dataframe thead th {\n",
       "        text-align: right;\n",
       "    }\n",
       "</style>\n",
       "<table border=\"1\" class=\"dataframe\">\n",
       "  <thead>\n",
       "    <tr style=\"text-align: right;\">\n",
       "      <th></th>\n",
       "      <th>popularity</th>\n",
       "      <th>acousticness</th>\n",
       "      <th>danceability</th>\n",
       "      <th>duration_ms</th>\n",
       "      <th>energy</th>\n",
       "      <th>instrumentalness</th>\n",
       "      <th>key</th>\n",
       "      <th>liveness</th>\n",
       "      <th>loudness</th>\n",
       "      <th>voice_gender</th>\n",
       "      <th>mode</th>\n",
       "      <th>speechiness</th>\n",
       "      <th>tempo</th>\n",
       "      <th>musician_category</th>\n",
       "      <th>valence</th>\n",
       "    </tr>\n",
       "  </thead>\n",
       "  <tbody>\n",
       "    <tr>\n",
       "      <th>0</th>\n",
       "      <td>49.178</td>\n",
       "      <td>0.970522</td>\n",
       "      <td>0.580508</td>\n",
       "      <td>214625.776</td>\n",
       "      <td>0.192107</td>\n",
       "      <td>0.000000</td>\n",
       "      <td>7</td>\n",
       "      <td>0.147134</td>\n",
       "      <td>-14.140</td>\n",
       "      <td>3</td>\n",
       "      <td>1</td>\n",
       "      <td>0.046404</td>\n",
       "      <td>143.788</td>\n",
       "      <td>0</td>\n",
       "      <td>0.598965</td>\n",
       "    </tr>\n",
       "    <tr>\n",
       "      <th>1</th>\n",
       "      <td>59.827</td>\n",
       "      <td>1.009380</td>\n",
       "      <td>0.687542</td>\n",
       "      <td>216232.195</td>\n",
       "      <td>0.265942</td>\n",
       "      <td>0.000031</td>\n",
       "      <td>0</td>\n",
       "      <td>0.174655</td>\n",
       "      <td>-13.716</td>\n",
       "      <td>2</td>\n",
       "      <td>0</td>\n",
       "      <td>0.039949</td>\n",
       "      <td>0.000</td>\n",
       "      <td>0</td>\n",
       "      <td>0.357194</td>\n",
       "    </tr>\n",
       "    <tr>\n",
       "      <th>2</th>\n",
       "      <td>89.023</td>\n",
       "      <td>0.020041</td>\n",
       "      <td>0.967948</td>\n",
       "      <td>273314.723</td>\n",
       "      <td>0.857411</td>\n",
       "      <td>0.000000</td>\n",
       "      <td>5</td>\n",
       "      <td>0.042030</td>\n",
       "      <td>-4.995</td>\n",
       "      <td>1</td>\n",
       "      <td>1</td>\n",
       "      <td>0.119917</td>\n",
       "      <td>105.018</td>\n",
       "      <td>0</td>\n",
       "      <td>0.635525</td>\n",
       "    </tr>\n",
       "    <tr>\n",
       "      <th>3</th>\n",
       "      <td>55.762</td>\n",
       "      <td>0.010284</td>\n",
       "      <td>0.616287</td>\n",
       "      <td>189189.605</td>\n",
       "      <td>0.970513</td>\n",
       "      <td>0.000220</td>\n",
       "      <td>5</td>\n",
       "      <td>0.124637</td>\n",
       "      <td>-4.262</td>\n",
       "      <td>0</td>\n",
       "      <td>1</td>\n",
       "      <td>0.167493</td>\n",
       "      <td>0.000</td>\n",
       "      <td>1</td>\n",
       "      <td>0.983750</td>\n",
       "    </tr>\n",
       "    <tr>\n",
       "      <th>4</th>\n",
       "      <td>45.095</td>\n",
       "      <td>0.858769</td>\n",
       "      <td>0.280645</td>\n",
       "      <td>410136.987</td>\n",
       "      <td>0.114732</td>\n",
       "      <td>0.002753</td>\n",
       "      <td>9</td>\n",
       "      <td>0.134782</td>\n",
       "      <td>-26.922</td>\n",
       "      <td>1</td>\n",
       "      <td>2</td>\n",
       "      <td>0.039139</td>\n",
       "      <td>112.183</td>\n",
       "      <td>0</td>\n",
       "      <td>0.074412</td>\n",
       "    </tr>\n",
       "    <tr>\n",
       "      <th>...</th>\n",
       "      <td>...</td>\n",
       "      <td>...</td>\n",
       "      <td>...</td>\n",
       "      <td>...</td>\n",
       "      <td>...</td>\n",
       "      <td>...</td>\n",
       "      <td>...</td>\n",
       "      <td>...</td>\n",
       "      <td>...</td>\n",
       "      <td>...</td>\n",
       "      <td>...</td>\n",
       "      <td>...</td>\n",
       "      <td>...</td>\n",
       "      <td>...</td>\n",
       "      <td>...</td>\n",
       "    </tr>\n",
       "    <tr>\n",
       "      <th>15676</th>\n",
       "      <td>0.000</td>\n",
       "      <td>0.866988</td>\n",
       "      <td>0.387476</td>\n",
       "      <td>-1.000</td>\n",
       "      <td>0.196799</td>\n",
       "      <td>0.028725</td>\n",
       "      <td>2</td>\n",
       "      <td>0.248399</td>\n",
       "      <td>-16.331</td>\n",
       "      <td>1</td>\n",
       "      <td>1</td>\n",
       "      <td>0.045251</td>\n",
       "      <td>123.516</td>\n",
       "      <td>0</td>\n",
       "      <td>0.624518</td>\n",
       "    </tr>\n",
       "    <tr>\n",
       "      <th>15677</th>\n",
       "      <td>40.514</td>\n",
       "      <td>0.883333</td>\n",
       "      <td>0.459917</td>\n",
       "      <td>378128.464</td>\n",
       "      <td>0.349263</td>\n",
       "      <td>0.000519</td>\n",
       "      <td>8</td>\n",
       "      <td>0.681492</td>\n",
       "      <td>-25.087</td>\n",
       "      <td>0</td>\n",
       "      <td>1</td>\n",
       "      <td>0.448377</td>\n",
       "      <td>129.445</td>\n",
       "      <td>1</td>\n",
       "      <td>0.609022</td>\n",
       "    </tr>\n",
       "    <tr>\n",
       "      <th>15678</th>\n",
       "      <td>35.082</td>\n",
       "      <td>0.905281</td>\n",
       "      <td>0.566619</td>\n",
       "      <td>581799.061</td>\n",
       "      <td>0.543673</td>\n",
       "      <td>0.209238</td>\n",
       "      <td>6</td>\n",
       "      <td>0.416611</td>\n",
       "      <td>-10.246</td>\n",
       "      <td>1</td>\n",
       "      <td>1</td>\n",
       "      <td>0.040625</td>\n",
       "      <td>123.170</td>\n",
       "      <td>2</td>\n",
       "      <td>0.869294</td>\n",
       "    </tr>\n",
       "    <tr>\n",
       "      <th>15679</th>\n",
       "      <td>59.693</td>\n",
       "      <td>0.113408</td>\n",
       "      <td>0.644554</td>\n",
       "      <td>151226.592</td>\n",
       "      <td>0.912201</td>\n",
       "      <td>0.000089</td>\n",
       "      <td>8</td>\n",
       "      <td>0.166336</td>\n",
       "      <td>-7.257</td>\n",
       "      <td>0</td>\n",
       "      <td>2</td>\n",
       "      <td>0.060308</td>\n",
       "      <td>116.077</td>\n",
       "      <td>1</td>\n",
       "      <td>0.402700</td>\n",
       "    </tr>\n",
       "    <tr>\n",
       "      <th>15680</th>\n",
       "      <td>56.518</td>\n",
       "      <td>0.847136</td>\n",
       "      <td>0.502160</td>\n",
       "      <td>190735.191</td>\n",
       "      <td>0.470057</td>\n",
       "      <td>0.502878</td>\n",
       "      <td>8</td>\n",
       "      <td>0.143114</td>\n",
       "      <td>-11.043</td>\n",
       "      <td>1</td>\n",
       "      <td>1</td>\n",
       "      <td>0.029906</td>\n",
       "      <td>94.200</td>\n",
       "      <td>3</td>\n",
       "      <td>0.358777</td>\n",
       "    </tr>\n",
       "  </tbody>\n",
       "</table>\n",
       "<p>15307 rows × 15 columns</p>\n",
       "</div>"
      ],
      "text/plain": [
       "       popularity  acousticness  danceability  duration_ms    energy  \\\n",
       "0          49.178      0.970522      0.580508   214625.776  0.192107   \n",
       "1          59.827      1.009380      0.687542   216232.195  0.265942   \n",
       "2          89.023      0.020041      0.967948   273314.723  0.857411   \n",
       "3          55.762      0.010284      0.616287   189189.605  0.970513   \n",
       "4          45.095      0.858769      0.280645   410136.987  0.114732   \n",
       "...           ...           ...           ...          ...       ...   \n",
       "15676       0.000      0.866988      0.387476       -1.000  0.196799   \n",
       "15677      40.514      0.883333      0.459917   378128.464  0.349263   \n",
       "15678      35.082      0.905281      0.566619   581799.061  0.543673   \n",
       "15679      59.693      0.113408      0.644554   151226.592  0.912201   \n",
       "15680      56.518      0.847136      0.502160   190735.191  0.470057   \n",
       "\n",
       "       instrumentalness  key  liveness  loudness  voice_gender  mode  \\\n",
       "0              0.000000    7  0.147134   -14.140             3     1   \n",
       "1              0.000031    0  0.174655   -13.716             2     0   \n",
       "2              0.000000    5  0.042030    -4.995             1     1   \n",
       "3              0.000220    5  0.124637    -4.262             0     1   \n",
       "4              0.002753    9  0.134782   -26.922             1     2   \n",
       "...                 ...  ...       ...       ...           ...   ...   \n",
       "15676          0.028725    2  0.248399   -16.331             1     1   \n",
       "15677          0.000519    8  0.681492   -25.087             0     1   \n",
       "15678          0.209238    6  0.416611   -10.246             1     1   \n",
       "15679          0.000089    8  0.166336    -7.257             0     2   \n",
       "15680          0.502878    8  0.143114   -11.043             1     1   \n",
       "\n",
       "       speechiness    tempo  musician_category   valence  \n",
       "0         0.046404  143.788                  0  0.598965  \n",
       "1         0.039949    0.000                  0  0.357194  \n",
       "2         0.119917  105.018                  0  0.635525  \n",
       "3         0.167493    0.000                  1  0.983750  \n",
       "4         0.039139  112.183                  0  0.074412  \n",
       "...            ...      ...                ...       ...  \n",
       "15676     0.045251  123.516                  0  0.624518  \n",
       "15677     0.448377  129.445                  1  0.609022  \n",
       "15678     0.040625  123.170                  2  0.869294  \n",
       "15679     0.060308  116.077                  1  0.402700  \n",
       "15680     0.029906   94.200                  3  0.358777  \n",
       "\n",
       "[15307 rows x 15 columns]"
      ]
     },
     "execution_count": 57,
     "metadata": {},
     "output_type": "execute_result"
    }
   ],
   "source": [
    "X"
   ]
  },
  {
   "cell_type": "code",
   "execution_count": 58,
   "id": "7c7a820e",
   "metadata": {},
   "outputs": [
    {
     "data": {
      "text/plain": [
       "0             Jazz\n",
       "1             Jazz\n",
       "2              Rap\n",
       "3             Rock\n",
       "4        Classical\n",
       "           ...    \n",
       "15676    Classical\n",
       "15677         Jazz\n",
       "15678         Jazz\n",
       "15679         Rock\n",
       "15680    Classical\n",
       "Name: music_genre, Length: 15307, dtype: object"
      ]
     },
     "execution_count": 58,
     "metadata": {},
     "output_type": "execute_result"
    }
   ],
   "source": [
    "y"
   ]
  },
  {
   "cell_type": "markdown",
   "id": "82c29ab3",
   "metadata": {},
   "source": [
    "# Calling SMOTE"
   ]
  },
  {
   "cell_type": "code",
   "execution_count": 59,
   "id": "5a3064a2",
   "metadata": {},
   "outputs": [],
   "source": [
    "from imblearn.over_sampling import SMOTE\n",
    "sm = SMOTE()\n",
    "X_smote, y_smote = sm.fit_resample(X, y)"
   ]
  },
  {
   "cell_type": "code",
   "execution_count": 60,
   "id": "70f368ba",
   "metadata": {},
   "outputs": [
    {
     "data": {
      "text/plain": [
       "Rap           3906\n",
       "Jazz          3906\n",
       "Country       3906\n",
       "Hip-Hop       3906\n",
       "Classical     3906\n",
       "Rock          3906\n",
       "Electronic    3906\n",
       "Name: music_genre, dtype: int64"
      ]
     },
     "execution_count": 60,
     "metadata": {},
     "output_type": "execute_result"
    }
   ],
   "source": [
    "y_smote.value_counts()"
   ]
  },
  {
   "cell_type": "code",
   "execution_count": 61,
   "id": "6644dd3f",
   "metadata": {},
   "outputs": [
    {
     "name": "stderr",
     "output_type": "stream",
     "text": [
      "C:\\Users\\KIIT\\Anaconda3\\envs\\python 36 with tensorflow\\lib\\site-packages\\seaborn\\_decorators.py:43: FutureWarning: Pass the following variable as a keyword arg: x. From version 0.12, the only valid positional argument will be `data`, and passing other arguments without an explicit keyword will result in an error or misinterpretation.\n",
      "  FutureWarning\n"
     ]
    },
    {
     "data": {
      "text/plain": [
       "<AxesSubplot:xlabel='music_genre', ylabel='count'>"
      ]
     },
     "execution_count": 61,
     "metadata": {},
     "output_type": "execute_result"
    },
    {
     "data": {
      "image/png": "[encoded data removed]",
      "text/plain": [
       "<Figure size 432x288 with 1 Axes>"
      ]
     },
     "metadata": {},
     "output_type": "display_data"
    }
   ],
   "source": [
    "sns.countplot(y_smote)"
   ]
  },
  {
   "cell_type": "markdown",
   "id": "8decde4b",
   "metadata": {},
   "source": [
    "# Now all the target variables are perfectly balanced "
   ]
  },
  {
   "cell_type": "code",
   "execution_count": 62,
   "id": "a7a90f1c",
   "metadata": {},
   "outputs": [],
   "source": [
    "from sklearn.model_selection import train_test_split\n",
    "\n",
    "X_train, X_test, y_train, y_test = train_test_split(X_smote, y_smote, test_size = 0.25, random_state = 0)"
   ]
  },
  {
   "cell_type": "code",
   "execution_count": 63,
   "id": "905e76ca",
   "metadata": {},
   "outputs": [
    {
     "name": "stdout",
     "output_type": "stream",
     "text": [
      "(20506, 15) (6836, 15)\n",
      "(20506,) (6836,)\n"
     ]
    }
   ],
   "source": [
    "print(X_train.shape, X_test.shape)\n",
    "print(y_train.shape, y_test.shape)"
   ]
  },
  {
   "cell_type": "markdown",
   "id": "614bbe2a",
   "metadata": {},
   "source": [
    "# Tried Recursive feature elimination but not helping it"
   ]
  },
  {
   "cell_type": "markdown",
   "id": "193b87b7",
   "metadata": {},
   "source": [
    "model_xgb = xgb.XGBClassifier(max_depth=9,n_estimators= 100, learning_rate= 0.1,random_state=42, verbosity = 0)\n",
    "from sklearn.feature_selection import RFE\n",
    "rfe = RFE(model_xgb, 10)             # running RFE with 13 variables as output\n",
    "rfe = rfe.fit(X_train, y_train)"
   ]
  },
  {
   "cell_type": "markdown",
   "id": "3f925018",
   "metadata": {},
   "source": [
    "rfe.support_"
   ]
  },
  {
   "cell_type": "raw",
   "id": "b9c266f5",
   "metadata": {},
   "source": [
    "list(zip(X_train.columns, rfe.support_, rfe.ranking_))"
   ]
  },
  {
   "cell_type": "markdown",
   "id": "e3571278",
   "metadata": {},
   "source": [
    "col = X_train.columns[rfe.support_]"
   ]
  },
  {
   "cell_type": "markdown",
   "id": "4dac9eba",
   "metadata": {},
   "source": [
    "X_train.columns[~rfe.support_]"
   ]
  },
  {
   "cell_type": "markdown",
   "id": "09f2de56",
   "metadata": {},
   "source": [
    "# Implementing Xgboost with grid search"
   ]
  },
  {
   "cell_type": "code",
   "execution_count": 65,
   "id": "cfb64146",
   "metadata": {},
   "outputs": [],
   "source": [
    "from sklearn.model_selection import train_test_split,cross_validate\n",
    "from sklearn.model_selection import KFold\n",
    "from sklearn.model_selection import GridSearchCV\n",
    "\n",
    "import xgboost as xgb"
   ]
  },
  {
   "cell_type": "markdown",
   "id": "0a643174",
   "metadata": {},
   "source": [
    "# Looking for the best parameter by Grid Search "
   ]
  },
  {
   "cell_type": "code",
   "execution_count": 65,
   "id": "9259785c",
   "metadata": {},
   "outputs": [
    {
     "name": "stdout",
     "output_type": "stream",
     "text": [
      "Wall time: 29min 1s\n"
     ]
    }
   ],
   "source": [
    "\n",
    "%%time\n",
    "parameters = {\n",
    "    'max_depth': [3, 5, 7, 9], \n",
    "    'n_estimators': [5, 10, 15, 20, 25, 50, 100],\n",
    "    'learning_rate': [0.01, 0.05, 0.1]\n",
    "}\n",
    "\n",
    "model_xgb = xgb.XGBClassifier(\n",
    "    random_state=42, verbosity = 0\n",
    ")\n",
    "\n",
    "model_xgb = GridSearchCV(\n",
    "    model_xgb, \n",
    "    parameters, \n",
    "    cv=5,\n",
    "    scoring='accuracy',\n",
    ")\n",
    "\n",
    "model_xgb.fit(X_train, y_train)\n",
    "model_xgb_pred = model_xgb.predict(X_test)\n"
   ]
  },
  {
   "cell_type": "code",
   "execution_count": 66,
   "id": "8482413f",
   "metadata": {},
   "outputs": [],
   "source": [
    "cross_valid_scores = {}"
   ]
  },
  {
   "cell_type": "code",
   "execution_count": 67,
   "id": "43a6e4ca",
   "metadata": {},
   "outputs": [
    {
     "name": "stdout",
     "output_type": "stream",
     "text": [
      "Best parameters {'learning_rate': 0.1, 'max_depth': 9, 'n_estimators': 100}\n",
      "Mean cross-validated accuracy score of the best_estimator: 0.810\n",
      "-----\n"
     ]
    }
   ],
   "source": [
    "\n",
    "from sklearn.model_selection import cross_val_score\n",
    "\n",
    "print(f'Best parameters {model_xgb.best_params_}')\n",
    "print(\n",
    "    f'Mean cross-validated accuracy score of the best_estimator: ' + \n",
    "    f'{model_xgb.best_score_:.3f}'\n",
    ")\n",
    "cross_valid_scores['xgboost'] = model_xgb.best_score_\n",
    "print('-----')\n"
   ]
  },
  {
   "cell_type": "markdown",
   "id": "e3487521",
   "metadata": {},
   "source": [
    "### Passing the best parameters in the model and calculating the final output "
   ]
  },
  {
   "cell_type": "code",
   "execution_count": 66,
   "id": "3702f9a5",
   "metadata": {},
   "outputs": [],
   "source": [
    "\n",
    "model_xgb = xgb.XGBClassifier(max_depth=9,n_estimators= 100, learning_rate= 0.1,random_state=42, verbosity = 0)\n",
    "\n",
    "model_xgb.fit(X_train, y_train)\n",
    "model_xgb_pred = model_xgb.predict(X_test)"
   ]
  },
  {
   "cell_type": "markdown",
   "id": "4596d680",
   "metadata": {},
   "source": [
    "### Classification report"
   ]
  },
  {
   "cell_type": "code",
   "execution_count": 67,
   "id": "81725a99",
   "metadata": {},
   "outputs": [
    {
     "name": "stdout",
     "output_type": "stream",
     "text": [
      "              precision    recall  f1-score   support\n",
      "\n",
      "   Classical       0.91      0.92      0.92       958\n",
      "     Country       0.88      0.88      0.88      1010\n",
      "  Electronic       0.88      0.86      0.87      1007\n",
      "     Hip-Hop       0.87      0.79      0.83      1053\n",
      "        Jazz       0.72      0.79      0.76       880\n",
      "         Rap       0.68      0.78      0.73       858\n",
      "        Rock       0.82      0.73      0.77      1070\n",
      "\n",
      "    accuracy                           0.82      6836\n",
      "   macro avg       0.82      0.82      0.82      6836\n",
      "weighted avg       0.83      0.82      0.82      6836\n",
      "\n"
     ]
    }
   ],
   "source": [
    "from sklearn.metrics import classification_report\n",
    "print(classification_report(model_xgb_pred, y_test))"
   ]
  },
  {
   "cell_type": "markdown",
   "id": "62144432",
   "metadata": {},
   "source": [
    "## Evaluation Score as per instruction"
   ]
  },
  {
   "cell_type": "code",
   "execution_count": 68,
   "id": "4e2d9842",
   "metadata": {},
   "outputs": [],
   "source": [
    "from sklearn.metrics import f1_score\n",
    "score = 100*(f1_score(model_xgb_pred, y_test,average ='macro'))"
   ]
  },
  {
   "cell_type": "code",
   "execution_count": 69,
   "id": "2eaa1a61",
   "metadata": {},
   "outputs": [
    {
     "data": {
      "text/plain": [
       "82.0736307768758"
      ]
     },
     "execution_count": 69,
     "metadata": {},
     "output_type": "execute_result"
    }
   ],
   "source": [
    "score"
   ]
  },
  {
   "cell_type": "code",
   "execution_count": 70,
   "id": "128c33e4",
   "metadata": {},
   "outputs": [],
   "source": [
    "y_test=y_test.values"
   ]
  },
  {
   "cell_type": "code",
   "execution_count": 71,
   "id": "6cbbfef5",
   "metadata": {},
   "outputs": [
    {
     "name": "stdout",
     "output_type": "stream",
     "text": [
      "[['Country' 'Country']\n",
      " ['Rap' 'Rap']\n",
      " ['Rap' 'Electronic']\n",
      " ...\n",
      " ['Classical' 'Classical']\n",
      " ['Classical' 'Classical']\n",
      " ['Classical' 'Classical']]\n"
     ]
    }
   ],
   "source": [
    "print(np.concatenate((model_xgb_pred.reshape(len(model_xgb_pred),1), y_test.reshape(len(y_test),1)),1))"
   ]
  },
  {
   "cell_type": "markdown",
   "id": "63a638a8",
   "metadata": {},
   "source": [
    "# Confusion Matrix"
   ]
  },
  {
   "cell_type": "code",
   "execution_count": 72,
   "id": "856fec4b",
   "metadata": {},
   "outputs": [
    {
     "name": "stdout",
     "output_type": "stream",
     "text": [
      "[[884   9  12   0  49   1  16]\n",
      " [  1 886   8  10  27   7  69]\n",
      " [  5   9 864  19  64  10  16]\n",
      " [  0   5   6 832   3  91  16]\n",
      " [ 65  39 107   5 698   9  45]\n",
      " [  0  13   5 169   7 671 124]\n",
      " [  3  49   5  18  32  69 784]]\n"
     ]
    }
   ],
   "source": [
    "from sklearn.metrics import confusion_matrix, accuracy_score\n",
    "cm = confusion_matrix(y_test,model_xgb_pred)\n",
    "print(cm)"
   ]
  },
  {
   "cell_type": "code",
   "execution_count": 73,
   "id": "6145c413",
   "metadata": {},
   "outputs": [
    {
     "data": {
      "text/plain": [
       "<AxesSubplot:>"
      ]
     },
     "execution_count": 73,
     "metadata": {},
     "output_type": "execute_result"
    },
    {
     "data": {
      "image/png": "[encoded data removed]",
      "text/plain": [
       "<Figure size 432x288 with 2 Axes>"
      ]
     },
     "metadata": {},
     "output_type": "display_data"
    }
   ],
   "source": [
    "sns.heatmap(cm, annot=True, linewidth=1)"
   ]
  },
  {
   "cell_type": "markdown",
   "id": "1b6ab708",
   "metadata": {},
   "source": [
    "# reading the OG test dataset"
   ]
  },
  {
   "cell_type": "code",
   "execution_count": 74,
   "id": "98500c8a",
   "metadata": {},
   "outputs": [],
   "source": [
    "og=pd.read_csv(\"test.csv\")"
   ]
  },
  {
   "cell_type": "code",
   "execution_count": 75,
   "id": "83fac142",
   "metadata": {},
   "outputs": [
    {
     "data": {
      "text/html": [
       "<div>\n",
       "<style scoped>\n",
       "    .dataframe tbody tr th:only-of-type {\n",
       "        vertical-align: middle;\n",
       "    }\n",
       "\n",
       "    .dataframe tbody tr th {\n",
       "        vertical-align: top;\n",
       "    }\n",
       "\n",
       "    .dataframe thead th {\n",
       "        text-align: right;\n",
       "    }\n",
       "</style>\n",
       "<table border=\"1\" class=\"dataframe\">\n",
       "  <thead>\n",
       "    <tr style=\"text-align: right;\">\n",
       "      <th></th>\n",
       "      <th>instance_id</th>\n",
       "      <th>track_name</th>\n",
       "      <th>popularity</th>\n",
       "      <th>acousticness</th>\n",
       "      <th>danceability</th>\n",
       "      <th>duration_ms</th>\n",
       "      <th>energy</th>\n",
       "      <th>instrumentalness</th>\n",
       "      <th>key</th>\n",
       "      <th>liveness</th>\n",
       "      <th>loudness</th>\n",
       "      <th>voice_gender</th>\n",
       "      <th>mode</th>\n",
       "      <th>speechiness</th>\n",
       "      <th>tempo</th>\n",
       "      <th>musician_category</th>\n",
       "      <th>valence</th>\n",
       "    </tr>\n",
       "  </thead>\n",
       "  <tbody>\n",
       "    <tr>\n",
       "      <th>0</th>\n",
       "      <td>MSC_70753.0</td>\n",
       "      <td>Bard, a Man of Lake-town - Extended Version</td>\n",
       "      <td>26.101</td>\n",
       "      <td>0.823765</td>\n",
       "      <td>0.115490</td>\n",
       "      <td>211462.287</td>\n",
       "      <td>0.125325</td>\n",
       "      <td>0.945272</td>\n",
       "      <td>Scale A Sharp</td>\n",
       "      <td>0.120392</td>\n",
       "      <td>-25.541</td>\n",
       "      <td>Both</td>\n",
       "      <td>Minor</td>\n",
       "      <td>0.038657</td>\n",
       "      <td>80.777</td>\n",
       "      <td>Duet</td>\n",
       "      <td>0.041238</td>\n",
       "    </tr>\n",
       "    <tr>\n",
       "      <th>1</th>\n",
       "      <td>MSC_24064.0</td>\n",
       "      <td>New Kings</td>\n",
       "      <td>66.325</td>\n",
       "      <td>0.015441</td>\n",
       "      <td>0.592838</td>\n",
       "      <td>249151.238</td>\n",
       "      <td>0.870798</td>\n",
       "      <td>0.000108</td>\n",
       "      <td>Scale E</td>\n",
       "      <td>0.406722</td>\n",
       "      <td>-3.905</td>\n",
       "      <td>Male</td>\n",
       "      <td>?</td>\n",
       "      <td>0.051368</td>\n",
       "      <td>76.00399999999999</td>\n",
       "      <td>Band</td>\n",
       "      <td>0.456309</td>\n",
       "    </tr>\n",
       "    <tr>\n",
       "      <th>2</th>\n",
       "      <td>MSC_22731.0</td>\n",
       "      <td>Silver Lining</td>\n",
       "      <td>71.871</td>\n",
       "      <td>0.001006</td>\n",
       "      <td>0.510340</td>\n",
       "      <td>215693.240</td>\n",
       "      <td>0.683077</td>\n",
       "      <td>0.000000</td>\n",
       "      <td>Scale C</td>\n",
       "      <td>0.084608</td>\n",
       "      <td>-6.825</td>\n",
       "      <td>Female</td>\n",
       "      <td>Major</td>\n",
       "      <td>0.034303</td>\n",
       "      <td>144.458</td>\n",
       "      <td>Solo</td>\n",
       "      <td>0.193332</td>\n",
       "    </tr>\n",
       "    <tr>\n",
       "      <th>3</th>\n",
       "      <td>MSC_32095.0</td>\n",
       "      <td>A Tale That Wasn't Right</td>\n",
       "      <td>56.151</td>\n",
       "      <td>0.315650</td>\n",
       "      <td>0.338336</td>\n",
       "      <td>307056.179</td>\n",
       "      <td>0.608904</td>\n",
       "      <td>0.000000</td>\n",
       "      <td>Scale A</td>\n",
       "      <td>0.276811</td>\n",
       "      <td>-8.382</td>\n",
       "      <td>Female</td>\n",
       "      <td>Minor</td>\n",
       "      <td>0.036934</td>\n",
       "      <td>118.145</td>\n",
       "      <td>Solo</td>\n",
       "      <td>0.214906</td>\n",
       "    </tr>\n",
       "    <tr>\n",
       "      <th>4</th>\n",
       "      <td>MSC_24198.0</td>\n",
       "      <td>Get Ready</td>\n",
       "      <td>43.687</td>\n",
       "      <td>0.038336</td>\n",
       "      <td>0.773904</td>\n",
       "      <td>352802.872</td>\n",
       "      <td>0.955500</td>\n",
       "      <td>0.000007</td>\n",
       "      <td>Scale D</td>\n",
       "      <td>0.301726</td>\n",
       "      <td>-4.733</td>\n",
       "      <td>Both</td>\n",
       "      <td>Major</td>\n",
       "      <td>0.079688</td>\n",
       "      <td>95.012</td>\n",
       "      <td>Duet</td>\n",
       "      <td>0.757347</td>\n",
       "    </tr>\n",
       "  </tbody>\n",
       "</table>\n",
       "</div>"
      ],
      "text/plain": [
       "   instance_id                                   track_name  popularity  \\\n",
       "0  MSC_70753.0  Bard, a Man of Lake-town - Extended Version      26.101   \n",
       "1  MSC_24064.0                                    New Kings      66.325   \n",
       "2  MSC_22731.0                                Silver Lining      71.871   \n",
       "3  MSC_32095.0                     A Tale That Wasn't Right      56.151   \n",
       "4  MSC_24198.0                                    Get Ready      43.687   \n",
       "\n",
       "   acousticness  danceability  duration_ms    energy  instrumentalness  \\\n",
       "0      0.823765      0.115490   211462.287  0.125325          0.945272   \n",
       "1      0.015441      0.592838   249151.238  0.870798          0.000108   \n",
       "2      0.001006      0.510340   215693.240  0.683077          0.000000   \n",
       "3      0.315650      0.338336   307056.179  0.608904          0.000000   \n",
       "4      0.038336      0.773904   352802.872  0.955500          0.000007   \n",
       "\n",
       "             key  liveness  loudness voice_gender   mode  speechiness  \\\n",
       "0  Scale A Sharp  0.120392   -25.541         Both  Minor     0.038657   \n",
       "1        Scale E  0.406722    -3.905         Male      ?     0.051368   \n",
       "2        Scale C  0.084608    -6.825       Female  Major     0.034303   \n",
       "3        Scale A  0.276811    -8.382       Female  Minor     0.036934   \n",
       "4        Scale D  0.301726    -4.733         Both  Major     0.079688   \n",
       "\n",
       "               tempo musician_category   valence  \n",
       "0             80.777              Duet  0.041238  \n",
       "1  76.00399999999999              Band  0.456309  \n",
       "2            144.458              Solo  0.193332  \n",
       "3            118.145              Solo  0.214906  \n",
       "4             95.012              Duet  0.757347  "
      ]
     },
     "execution_count": 75,
     "metadata": {},
     "output_type": "execute_result"
    }
   ],
   "source": [
    "og.head()"
   ]
  },
  {
   "cell_type": "markdown",
   "id": "5cd086fe",
   "metadata": {},
   "source": [
    "# Test Dataset After Preprocessing"
   ]
  },
  {
   "cell_type": "code",
   "execution_count": 76,
   "id": "bd4d0c3c",
   "metadata": {},
   "outputs": [
    {
     "data": {
      "text/html": [
       "<div>\n",
       "<style scoped>\n",
       "    .dataframe tbody tr th:only-of-type {\n",
       "        vertical-align: middle;\n",
       "    }\n",
       "\n",
       "    .dataframe tbody tr th {\n",
       "        vertical-align: top;\n",
       "    }\n",
       "\n",
       "    .dataframe thead th {\n",
       "        text-align: right;\n",
       "    }\n",
       "</style>\n",
       "<table border=\"1\" class=\"dataframe\">\n",
       "  <thead>\n",
       "    <tr style=\"text-align: right;\">\n",
       "      <th></th>\n",
       "      <th>instance_id</th>\n",
       "      <th>track_name</th>\n",
       "      <th>popularity</th>\n",
       "      <th>acousticness</th>\n",
       "      <th>danceability</th>\n",
       "      <th>duration_ms</th>\n",
       "      <th>energy</th>\n",
       "      <th>instrumentalness</th>\n",
       "      <th>key</th>\n",
       "      <th>liveness</th>\n",
       "      <th>loudness</th>\n",
       "      <th>voice_gender</th>\n",
       "      <th>mode</th>\n",
       "      <th>speechiness</th>\n",
       "      <th>tempo</th>\n",
       "      <th>musician_category</th>\n",
       "      <th>valence</th>\n",
       "    </tr>\n",
       "  </thead>\n",
       "  <tbody>\n",
       "    <tr>\n",
       "      <th>0</th>\n",
       "      <td>MSC_70753.0</td>\n",
       "      <td>Bard, a Man of Lake-town - Extended Version</td>\n",
       "      <td>26.101</td>\n",
       "      <td>0.823765</td>\n",
       "      <td>0.115490</td>\n",
       "      <td>211462.287</td>\n",
       "      <td>0.125325</td>\n",
       "      <td>0.945272</td>\n",
       "      <td>1</td>\n",
       "      <td>0.120392</td>\n",
       "      <td>-25.541</td>\n",
       "      <td>0</td>\n",
       "      <td>2</td>\n",
       "      <td>0.038657</td>\n",
       "      <td>80.777</td>\n",
       "      <td>1</td>\n",
       "      <td>0.041238</td>\n",
       "    </tr>\n",
       "    <tr>\n",
       "      <th>1</th>\n",
       "      <td>MSC_24064.0</td>\n",
       "      <td>New Kings</td>\n",
       "      <td>66.325</td>\n",
       "      <td>0.015441</td>\n",
       "      <td>0.592838</td>\n",
       "      <td>249151.238</td>\n",
       "      <td>0.870798</td>\n",
       "      <td>0.000108</td>\n",
       "      <td>7</td>\n",
       "      <td>0.406722</td>\n",
       "      <td>-3.905</td>\n",
       "      <td>2</td>\n",
       "      <td>0</td>\n",
       "      <td>0.051368</td>\n",
       "      <td>76.004</td>\n",
       "      <td>0</td>\n",
       "      <td>0.456309</td>\n",
       "    </tr>\n",
       "    <tr>\n",
       "      <th>2</th>\n",
       "      <td>MSC_22731.0</td>\n",
       "      <td>Silver Lining</td>\n",
       "      <td>71.871</td>\n",
       "      <td>0.001006</td>\n",
       "      <td>0.510340</td>\n",
       "      <td>215693.240</td>\n",
       "      <td>0.683077</td>\n",
       "      <td>0.000000</td>\n",
       "      <td>3</td>\n",
       "      <td>0.084608</td>\n",
       "      <td>-6.825</td>\n",
       "      <td>1</td>\n",
       "      <td>1</td>\n",
       "      <td>0.034303</td>\n",
       "      <td>144.458</td>\n",
       "      <td>3</td>\n",
       "      <td>0.193332</td>\n",
       "    </tr>\n",
       "    <tr>\n",
       "      <th>3</th>\n",
       "      <td>MSC_32095.0</td>\n",
       "      <td>A Tale That Wasn't Right</td>\n",
       "      <td>56.151</td>\n",
       "      <td>0.315650</td>\n",
       "      <td>0.338336</td>\n",
       "      <td>307056.179</td>\n",
       "      <td>0.608904</td>\n",
       "      <td>0.000000</td>\n",
       "      <td>0</td>\n",
       "      <td>0.276811</td>\n",
       "      <td>-8.382</td>\n",
       "      <td>1</td>\n",
       "      <td>2</td>\n",
       "      <td>0.036934</td>\n",
       "      <td>118.145</td>\n",
       "      <td>3</td>\n",
       "      <td>0.214906</td>\n",
       "    </tr>\n",
       "    <tr>\n",
       "      <th>4</th>\n",
       "      <td>MSC_24198.0</td>\n",
       "      <td>Get Ready</td>\n",
       "      <td>43.687</td>\n",
       "      <td>0.038336</td>\n",
       "      <td>0.773904</td>\n",
       "      <td>352802.872</td>\n",
       "      <td>0.955500</td>\n",
       "      <td>0.000007</td>\n",
       "      <td>5</td>\n",
       "      <td>0.301726</td>\n",
       "      <td>-4.733</td>\n",
       "      <td>0</td>\n",
       "      <td>1</td>\n",
       "      <td>0.079688</td>\n",
       "      <td>95.012</td>\n",
       "      <td>1</td>\n",
       "      <td>0.757347</td>\n",
       "    </tr>\n",
       "  </tbody>\n",
       "</table>\n",
       "</div>"
      ],
      "text/plain": [
       "   instance_id                                   track_name  popularity  \\\n",
       "0  MSC_70753.0  Bard, a Man of Lake-town - Extended Version      26.101   \n",
       "1  MSC_24064.0                                    New Kings      66.325   \n",
       "2  MSC_22731.0                                Silver Lining      71.871   \n",
       "3  MSC_32095.0                     A Tale That Wasn't Right      56.151   \n",
       "4  MSC_24198.0                                    Get Ready      43.687   \n",
       "\n",
       "   acousticness  danceability  duration_ms    energy  instrumentalness  key  \\\n",
       "0      0.823765      0.115490   211462.287  0.125325          0.945272    1   \n",
       "1      0.015441      0.592838   249151.238  0.870798          0.000108    7   \n",
       "2      0.001006      0.510340   215693.240  0.683077          0.000000    3   \n",
       "3      0.315650      0.338336   307056.179  0.608904          0.000000    0   \n",
       "4      0.038336      0.773904   352802.872  0.955500          0.000007    5   \n",
       "\n",
       "   liveness  loudness  voice_gender  mode  speechiness    tempo  \\\n",
       "0  0.120392   -25.541             0     2     0.038657   80.777   \n",
       "1  0.406722    -3.905             2     0     0.051368   76.004   \n",
       "2  0.084608    -6.825             1     1     0.034303  144.458   \n",
       "3  0.276811    -8.382             1     2     0.036934  118.145   \n",
       "4  0.301726    -4.733             0     1     0.079688   95.012   \n",
       "\n",
       "   musician_category   valence  \n",
       "0                  1  0.041238  \n",
       "1                  0  0.456309  \n",
       "2                  3  0.193332  \n",
       "3                  3  0.214906  \n",
       "4                  1  0.757347  "
      ]
     },
     "execution_count": 76,
     "metadata": {},
     "output_type": "execute_result"
    }
   ],
   "source": [
    "df_test.head()"
   ]
  },
  {
   "cell_type": "markdown",
   "id": "e2e0bce4",
   "metadata": {},
   "source": [
    "# Storing the Ids into the new dataset"
   ]
  },
  {
   "cell_type": "code",
   "execution_count": 77,
   "id": "2192acff",
   "metadata": {},
   "outputs": [],
   "source": [
    "submit = pd.DataFrame()\n",
    "submit['instance_id']=og['instance_id']"
   ]
  },
  {
   "cell_type": "code",
   "execution_count": 78,
   "id": "9c07a602",
   "metadata": {},
   "outputs": [],
   "source": [
    "df_test.drop(columns=['instance_id','track_name'],inplace=True)"
   ]
  },
  {
   "cell_type": "markdown",
   "id": "0aa2369c",
   "metadata": {},
   "source": [
    "# Prediction for Test Set"
   ]
  },
  {
   "cell_type": "markdown",
   "id": "41ca4f42",
   "metadata": {},
   "source": [
    "## Passing the test dataset into our Xgboost model with the best hyperparameters"
   ]
  },
  {
   "cell_type": "code",
   "execution_count": 79,
   "id": "ee504823",
   "metadata": {},
   "outputs": [
    {
     "data": {
      "text/plain": [
       "Index(['popularity', 'acousticness', 'danceability', 'duration_ms', 'energy',\n",
       "       'instrumentalness', 'key', 'liveness', 'loudness', 'voice_gender',\n",
       "       'mode', 'speechiness', 'tempo', 'musician_category', 'valence'],\n",
       "      dtype='object')"
      ]
     },
     "execution_count": 79,
     "metadata": {},
     "output_type": "execute_result"
    }
   ],
   "source": [
    "X_train.columns"
   ]
  },
  {
   "cell_type": "code",
   "execution_count": 80,
   "id": "f50a25d7",
   "metadata": {},
   "outputs": [
    {
     "data": {
      "text/plain": [
       "(3921, 15)"
      ]
     },
     "execution_count": 80,
     "metadata": {},
     "output_type": "execute_result"
    }
   ],
   "source": [
    "df_test.shape"
   ]
  },
  {
   "cell_type": "code",
   "execution_count": 81,
   "id": "5f01e951",
   "metadata": {},
   "outputs": [],
   "source": [
    "model_xgb_pred_final = model_xgb.predict(df_test)"
   ]
  },
  {
   "cell_type": "code",
   "execution_count": 82,
   "id": "97f40db7",
   "metadata": {},
   "outputs": [
    {
     "data": {
      "text/plain": [
       "array(['Classical', 'Rock', 'Rock', ..., 'Classical', 'Country',\n",
       "       'Electronic'], dtype=object)"
      ]
     },
     "execution_count": 82,
     "metadata": {},
     "output_type": "execute_result"
    }
   ],
   "source": [
    "model_xgb_pred_final"
   ]
  },
  {
   "cell_type": "markdown",
   "id": "cb845be0",
   "metadata": {},
   "source": [
    "# Storing the final values in the new dataset"
   ]
  },
  {
   "cell_type": "code",
   "execution_count": 83,
   "id": "958e30cc",
   "metadata": {},
   "outputs": [],
   "source": [
    "submit['music_genre']= model_xgb_pred_final"
   ]
  },
  {
   "cell_type": "markdown",
   "id": "8025bb29",
   "metadata": {},
   "source": [
    "# Storing it into a csv file for submission"
   ]
  },
  {
   "cell_type": "code",
   "execution_count": 84,
   "id": "7a36495c",
   "metadata": {},
   "outputs": [],
   "source": [
    "submit.to_csv(\"submit.csv\",index=False)"
   ]
  },
  {
   "cell_type": "code",
   "execution_count": 85,
   "id": "3080f7c7",
   "metadata": {},
   "outputs": [
    {
     "data": {
      "text/html": [
       "<div>\n",
       "<style scoped>\n",
       "    .dataframe tbody tr th:only-of-type {\n",
       "        vertical-align: middle;\n",
       "    }\n",
       "\n",
       "    .dataframe tbody tr th {\n",
       "        vertical-align: top;\n",
       "    }\n",
       "\n",
       "    .dataframe thead th {\n",
       "        text-align: right;\n",
       "    }\n",
       "</style>\n",
       "<table border=\"1\" class=\"dataframe\">\n",
       "  <thead>\n",
       "    <tr style=\"text-align: right;\">\n",
       "      <th></th>\n",
       "      <th>instance_id</th>\n",
       "      <th>music_genre</th>\n",
       "    </tr>\n",
       "  </thead>\n",
       "  <tbody>\n",
       "    <tr>\n",
       "      <th>0</th>\n",
       "      <td>MSC_70753.0</td>\n",
       "      <td>Classical</td>\n",
       "    </tr>\n",
       "    <tr>\n",
       "      <th>1</th>\n",
       "      <td>MSC_24064.0</td>\n",
       "      <td>Rock</td>\n",
       "    </tr>\n",
       "    <tr>\n",
       "      <th>2</th>\n",
       "      <td>MSC_22731.0</td>\n",
       "      <td>Rock</td>\n",
       "    </tr>\n",
       "    <tr>\n",
       "      <th>3</th>\n",
       "      <td>MSC_32095.0</td>\n",
       "      <td>Rock</td>\n",
       "    </tr>\n",
       "    <tr>\n",
       "      <th>4</th>\n",
       "      <td>MSC_24198.0</td>\n",
       "      <td>Jazz</td>\n",
       "    </tr>\n",
       "    <tr>\n",
       "      <th>...</th>\n",
       "      <td>...</td>\n",
       "      <td>...</td>\n",
       "    </tr>\n",
       "    <tr>\n",
       "      <th>3916</th>\n",
       "      <td>MSC_80955.0</td>\n",
       "      <td>Classical</td>\n",
       "    </tr>\n",
       "    <tr>\n",
       "      <th>3917</th>\n",
       "      <td>MSC_72767.0</td>\n",
       "      <td>Rock</td>\n",
       "    </tr>\n",
       "    <tr>\n",
       "      <th>3918</th>\n",
       "      <td>MSC_40192.0</td>\n",
       "      <td>Classical</td>\n",
       "    </tr>\n",
       "    <tr>\n",
       "      <th>3919</th>\n",
       "      <td>MSC_56067.0</td>\n",
       "      <td>Country</td>\n",
       "    </tr>\n",
       "    <tr>\n",
       "      <th>3920</th>\n",
       "      <td>MSC_90169.0</td>\n",
       "      <td>Electronic</td>\n",
       "    </tr>\n",
       "  </tbody>\n",
       "</table>\n",
       "<p>3921 rows × 2 columns</p>\n",
       "</div>"
      ],
      "text/plain": [
       "      instance_id music_genre\n",
       "0     MSC_70753.0   Classical\n",
       "1     MSC_24064.0        Rock\n",
       "2     MSC_22731.0        Rock\n",
       "3     MSC_32095.0        Rock\n",
       "4     MSC_24198.0        Jazz\n",
       "...           ...         ...\n",
       "3916  MSC_80955.0   Classical\n",
       "3917  MSC_72767.0        Rock\n",
       "3918  MSC_40192.0   Classical\n",
       "3919  MSC_56067.0     Country\n",
       "3920  MSC_90169.0  Electronic\n",
       "\n",
       "[3921 rows x 2 columns]"
      ]
     },
     "execution_count": 85,
     "metadata": {},
     "output_type": "execute_result"
    }
   ],
   "source": [
    "submit"
   ]
  },
  {
   "cell_type": "code",
   "execution_count": null,
   "id": "c91dac0f",
   "metadata": {},
   "outputs": [],
   "source": []
  },
  {
   "cell_type": "code",
   "execution_count": null,
   "id": "273c7582",
   "metadata": {},
   "outputs": [],
   "source": []
  },
  {
   "cell_type": "code",
   "execution_count": null,
   "id": "93ef0e44",
   "metadata": {},
   "outputs": [],
   "source": []
  }
 ],
 "metadata": {
  "kernelspec": {
   "display_name": "Python 3",
   "language": "python",
   "name": "python3"
  },
  "language_info": {
   "codemirror_mode": {
    "name": "ipython",
    "version": 3
   },
   "file_extension": ".py",
   "mimetype": "text/x-python",
   "name": "python",
   "nbconvert_exporter": "python",
   "pygments_lexer": "ipython3",
   "version": "3.6.12"
  }
 },
 "nbformat": 4,
 "nbformat_minor": 5
}
